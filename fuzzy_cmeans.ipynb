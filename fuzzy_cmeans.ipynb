{
 "cells": [
  {
   "cell_type": "code",
   "execution_count": 1,
   "metadata": {},
   "outputs": [],
   "source": [
    "import pandas as pd\n",
    "import numpy as np"
   ]
  },
  {
   "cell_type": "code",
   "execution_count": 3,
   "metadata": {},
   "outputs": [
    {
     "data": {
      "text/html": [
       "<div>\n",
       "<style scoped>\n",
       "    .dataframe tbody tr th:only-of-type {\n",
       "        vertical-align: middle;\n",
       "    }\n",
       "\n",
       "    .dataframe tbody tr th {\n",
       "        vertical-align: top;\n",
       "    }\n",
       "\n",
       "    .dataframe thead th {\n",
       "        text-align: right;\n",
       "    }\n",
       "</style>\n",
       "<table border=\"1\" class=\"dataframe\">\n",
       "  <thead>\n",
       "    <tr style=\"text-align: right;\">\n",
       "      <th></th>\n",
       "      <th>Kelurahan</th>\n",
       "      <th>0-23 Bulan</th>\n",
       "      <th>24-59 Bulan</th>\n",
       "      <th>Total</th>\n",
       "    </tr>\n",
       "  </thead>\n",
       "  <tbody>\n",
       "    <tr>\n",
       "      <th>0</th>\n",
       "      <td>Sepingan</td>\n",
       "      <td>5</td>\n",
       "      <td>12</td>\n",
       "      <td>17</td>\n",
       "    </tr>\n",
       "    <tr>\n",
       "      <th>1</th>\n",
       "      <td>Damai Baru</td>\n",
       "      <td>4</td>\n",
       "      <td>10</td>\n",
       "      <td>14</td>\n",
       "    </tr>\n",
       "    <tr>\n",
       "      <th>2</th>\n",
       "      <td>Damai Bahagia</td>\n",
       "      <td>17</td>\n",
       "      <td>9</td>\n",
       "      <td>26</td>\n",
       "    </tr>\n",
       "    <tr>\n",
       "      <th>3</th>\n",
       "      <td>Telaga Sari</td>\n",
       "      <td>3</td>\n",
       "      <td>7</td>\n",
       "      <td>10</td>\n",
       "    </tr>\n",
       "    <tr>\n",
       "      <th>4</th>\n",
       "      <td>Prapatan</td>\n",
       "      <td>2</td>\n",
       "      <td>15</td>\n",
       "      <td>17</td>\n",
       "    </tr>\n",
       "    <tr>\n",
       "      <th>5</th>\n",
       "      <td>Gunung Sari Ulu</td>\n",
       "      <td>3</td>\n",
       "      <td>13</td>\n",
       "      <td>16</td>\n",
       "    </tr>\n",
       "    <tr>\n",
       "      <th>6</th>\n",
       "      <td>Gunung Samarinda</td>\n",
       "      <td>6</td>\n",
       "      <td>11</td>\n",
       "      <td>17</td>\n",
       "    </tr>\n",
       "    <tr>\n",
       "      <th>7</th>\n",
       "      <td>Gunung Samarinda Baru</td>\n",
       "      <td>1</td>\n",
       "      <td>2</td>\n",
       "      <td>3</td>\n",
       "    </tr>\n",
       "    <tr>\n",
       "      <th>8</th>\n",
       "      <td>Baru Ulu</td>\n",
       "      <td>8</td>\n",
       "      <td>11</td>\n",
       "      <td>19</td>\n",
       "    </tr>\n",
       "    <tr>\n",
       "      <th>9</th>\n",
       "      <td>Klandasan Ilir</td>\n",
       "      <td>9</td>\n",
       "      <td>20</td>\n",
       "      <td>29</td>\n",
       "    </tr>\n",
       "  </tbody>\n",
       "</table>\n",
       "</div>"
      ],
      "text/plain": [
       "               Kelurahan  0-23 Bulan  24-59 Bulan  Total\n",
       "0               Sepingan           5           12     17\n",
       "1             Damai Baru           4           10     14\n",
       "2          Damai Bahagia          17            9     26\n",
       "3            Telaga Sari           3            7     10\n",
       "4               Prapatan           2           15     17\n",
       "5        Gunung Sari Ulu           3           13     16\n",
       "6       Gunung Samarinda           6           11     17\n",
       "7  Gunung Samarinda Baru           1            2      3\n",
       "8               Baru Ulu           8           11     19\n",
       "9         Klandasan Ilir           9           20     29"
      ]
     },
     "execution_count": 3,
     "metadata": {},
     "output_type": "execute_result"
    }
   ],
   "source": [
    "data_fuzzy = pd.read_csv('data_umur.csv')\n",
    "data_fuzzy.head(10)"
   ]
  },
  {
   "cell_type": "code",
   "execution_count": 4,
   "metadata": {},
   "outputs": [
    {
     "data": {
      "text/html": [
       "<div>\n",
       "<style scoped>\n",
       "    .dataframe tbody tr th:only-of-type {\n",
       "        vertical-align: middle;\n",
       "    }\n",
       "\n",
       "    .dataframe tbody tr th {\n",
       "        vertical-align: top;\n",
       "    }\n",
       "\n",
       "    .dataframe thead th {\n",
       "        text-align: right;\n",
       "    }\n",
       "</style>\n",
       "<table border=\"1\" class=\"dataframe\">\n",
       "  <thead>\n",
       "    <tr style=\"text-align: right;\">\n",
       "      <th></th>\n",
       "      <th>0-23 Bulan</th>\n",
       "      <th>24-59 Bulan</th>\n",
       "    </tr>\n",
       "  </thead>\n",
       "  <tbody>\n",
       "    <tr>\n",
       "      <th>0</th>\n",
       "      <td>5</td>\n",
       "      <td>12</td>\n",
       "    </tr>\n",
       "    <tr>\n",
       "      <th>1</th>\n",
       "      <td>4</td>\n",
       "      <td>10</td>\n",
       "    </tr>\n",
       "    <tr>\n",
       "      <th>2</th>\n",
       "      <td>17</td>\n",
       "      <td>9</td>\n",
       "    </tr>\n",
       "    <tr>\n",
       "      <th>3</th>\n",
       "      <td>3</td>\n",
       "      <td>7</td>\n",
       "    </tr>\n",
       "    <tr>\n",
       "      <th>4</th>\n",
       "      <td>2</td>\n",
       "      <td>15</td>\n",
       "    </tr>\n",
       "    <tr>\n",
       "      <th>5</th>\n",
       "      <td>3</td>\n",
       "      <td>13</td>\n",
       "    </tr>\n",
       "    <tr>\n",
       "      <th>6</th>\n",
       "      <td>6</td>\n",
       "      <td>11</td>\n",
       "    </tr>\n",
       "    <tr>\n",
       "      <th>7</th>\n",
       "      <td>1</td>\n",
       "      <td>2</td>\n",
       "    </tr>\n",
       "    <tr>\n",
       "      <th>8</th>\n",
       "      <td>8</td>\n",
       "      <td>11</td>\n",
       "    </tr>\n",
       "    <tr>\n",
       "      <th>9</th>\n",
       "      <td>9</td>\n",
       "      <td>20</td>\n",
       "    </tr>\n",
       "  </tbody>\n",
       "</table>\n",
       "</div>"
      ],
      "text/plain": [
       "   0-23 Bulan  24-59 Bulan\n",
       "0           5           12\n",
       "1           4           10\n",
       "2          17            9\n",
       "3           3            7\n",
       "4           2           15\n",
       "5           3           13\n",
       "6           6           11\n",
       "7           1            2\n",
       "8           8           11\n",
       "9           9           20"
      ]
     },
     "execution_count": 4,
     "metadata": {},
     "output_type": "execute_result"
    }
   ],
   "source": [
    "data_fuzzy = data_fuzzy.drop(['Kelurahan', 'Total'], axis=1)\n",
    "data_fuzzy.head(10)"
   ]
  },
  {
   "cell_type": "code",
   "execution_count": 5,
   "metadata": {},
   "outputs": [
    {
     "data": {
      "text/html": [
       "<div>\n",
       "<style scoped>\n",
       "    .dataframe tbody tr th:only-of-type {\n",
       "        vertical-align: middle;\n",
       "    }\n",
       "\n",
       "    .dataframe tbody tr th {\n",
       "        vertical-align: top;\n",
       "    }\n",
       "\n",
       "    .dataframe thead th {\n",
       "        text-align: right;\n",
       "    }\n",
       "</style>\n",
       "<table border=\"1\" class=\"dataframe\">\n",
       "  <thead>\n",
       "    <tr style=\"text-align: right;\">\n",
       "      <th></th>\n",
       "      <th>k1</th>\n",
       "      <th>k2</th>\n",
       "    </tr>\n",
       "  </thead>\n",
       "  <tbody>\n",
       "    <tr>\n",
       "      <th>0</th>\n",
       "      <td>0.3</td>\n",
       "      <td>0.7</td>\n",
       "    </tr>\n",
       "    <tr>\n",
       "      <th>1</th>\n",
       "      <td>0.2</td>\n",
       "      <td>0.8</td>\n",
       "    </tr>\n",
       "    <tr>\n",
       "      <th>2</th>\n",
       "      <td>0.4</td>\n",
       "      <td>0.6</td>\n",
       "    </tr>\n",
       "    <tr>\n",
       "      <th>3</th>\n",
       "      <td>0.8</td>\n",
       "      <td>0.2</td>\n",
       "    </tr>\n",
       "    <tr>\n",
       "      <th>4</th>\n",
       "      <td>0.4</td>\n",
       "      <td>0.6</td>\n",
       "    </tr>\n",
       "    <tr>\n",
       "      <th>5</th>\n",
       "      <td>0.7</td>\n",
       "      <td>0.3</td>\n",
       "    </tr>\n",
       "    <tr>\n",
       "      <th>6</th>\n",
       "      <td>0.1</td>\n",
       "      <td>0.9</td>\n",
       "    </tr>\n",
       "    <tr>\n",
       "      <th>7</th>\n",
       "      <td>0.9</td>\n",
       "      <td>0.1</td>\n",
       "    </tr>\n",
       "    <tr>\n",
       "      <th>8</th>\n",
       "      <td>0.6</td>\n",
       "      <td>0.4</td>\n",
       "    </tr>\n",
       "    <tr>\n",
       "      <th>9</th>\n",
       "      <td>0.3</td>\n",
       "      <td>0.7</td>\n",
       "    </tr>\n",
       "  </tbody>\n",
       "</table>\n",
       "</div>"
      ],
      "text/plain": [
       "    k1   k2\n",
       "0  0.3  0.7\n",
       "1  0.2  0.8\n",
       "2  0.4  0.6\n",
       "3  0.8  0.2\n",
       "4  0.4  0.6\n",
       "5  0.7  0.3\n",
       "6  0.1  0.9\n",
       "7  0.9  0.1\n",
       "8  0.6  0.4\n",
       "9  0.3  0.7"
      ]
     },
     "execution_count": 5,
     "metadata": {},
     "output_type": "execute_result"
    }
   ],
   "source": [
    "bil_random = pd.read_csv('bilangan_random.csv')\n",
    "bil_random.head(10)"
   ]
  },
  {
   "cell_type": "code",
   "execution_count": 6,
   "metadata": {},
   "outputs": [],
   "source": [
    "jumlah_cluster = 2\n",
    "pangkat_pembobotan = 2\n",
    "maksimum_iterasi = 13\n",
    "toleransi_error = 0.01\n",
    "fungsi_objektif = 0\n",
    "iterasi_awal = 0\n",
    "banyak_kolom = 2"
   ]
  },
  {
   "cell_type": "markdown",
   "metadata": {},
   "source": [
    "# Mencari $uk^{2}$"
   ]
  },
  {
   "cell_type": "code",
   "execution_count": 7,
   "metadata": {},
   "outputs": [],
   "source": [
    "uik2 = []\n",
    "for index_list, list_data in bil_random.iterrows():\n",
    "    uikw2 = []\n",
    "    for index_data, data in enumerate(list_data):\n",
    "        # print(data, end=' ')\n",
    "        \n",
    "        hitung = round(data ** pangkat_pembobotan, 2)\n",
    "        uikw2.append(hitung)\n",
    "    uik2.append(uikw2)\n",
    "    "
   ]
  },
  {
   "cell_type": "markdown",
   "metadata": {},
   "source": [
    "# Mencari Total $uk^2$"
   ]
  },
  {
   "cell_type": "code",
   "execution_count": 8,
   "metadata": {},
   "outputs": [
    {
     "name": "stdout",
     "output_type": "stream",
     "text": [
      "[2.85, 3.45]\n"
     ]
    }
   ],
   "source": [
    "total_uiw = []\n",
    "\n",
    "for kolom in range(len(data_fuzzy.columns)):\n",
    "    total = 0\n",
    "    for data in uik2:\n",
    "        total += data[kolom]\n",
    "        \n",
    "    total_uiw.append(total)\n",
    "\n",
    "print(total_uiw)"
   ]
  },
  {
   "cell_type": "markdown",
   "metadata": {},
   "source": [
    "# Mencari $uik*xij$"
   ]
  },
  {
   "cell_type": "code",
   "execution_count": 9,
   "metadata": {},
   "outputs": [
    {
     "name": "stdout",
     "output_type": "stream",
     "text": [
      "[0.45, 1.08, 2.45, 5.88]\n",
      "\n",
      "[0.16, 0.4, 2.56, 6.4]\n",
      "\n",
      "[2.72, 1.44, 6.12, 3.24]\n",
      "\n",
      "[1.92, 4.48, 0.12, 0.28]\n",
      "\n",
      "[0.32, 2.4, 0.72, 5.4]\n",
      "\n",
      "[1.47, 6.37, 0.27, 1.17]\n",
      "\n",
      "[0.06, 0.11, 4.86, 8.91]\n",
      "\n",
      "[0.81, 1.62, 0.01, 0.02]\n",
      "\n",
      "[2.88, 3.96, 1.28, 1.76]\n",
      "\n",
      "[0.81, 1.8, 4.41, 9.8]\n",
      "\n"
     ]
    }
   ],
   "source": [
    "uikxij = []\n",
    "\n",
    "for index_list, list_data in data_fuzzy.iterrows():\n",
    "    uikw2xij : list = []\n",
    "    for index_data, data in enumerate(uik2[index_list]):\n",
    "        uikw2xij_list : list = []\n",
    "        for index_data2, data2 in enumerate(list_data):\n",
    "            # print(data, data2, end=',')\n",
    "            hitung = round(data * data2, 2)\n",
    "            uikw2xij_list.append(hitung)\n",
    "\n",
    "        uikw2xij.extend(uikw2xij_list)\n",
    "    uikxij.append(uikw2xij)\n",
    "\n",
    "for data in uikxij:\n",
    "    print(data)\n",
    "    print()"
   ]
  },
  {
   "cell_type": "markdown",
   "metadata": {},
   "source": [
    "# Membuat dataframe pusat $cluster V$"
   ]
  },
  {
   "cell_type": "markdown",
   "metadata": {},
   "source": [
    "### Menentukan nama $uik^2$"
   ]
  },
  {
   "cell_type": "code",
   "execution_count": 10,
   "metadata": {},
   "outputs": [
    {
     "name": "stdout",
     "output_type": "stream",
     "text": [
      "['ui1w2', 'ui2w2']\n"
     ]
    }
   ],
   "source": [
    "nama_uik2 = []\n",
    "for i in range(len(bil_random.columns)):\n",
    "    nama_uik2.append(f'ui{i+1}w2')\n",
    "    \n",
    "print(nama_uik2)"
   ]
  },
  {
   "cell_type": "markdown",
   "metadata": {},
   "source": [
    "### Menentukan nama $uik*xij$"
   ]
  },
  {
   "cell_type": "code",
   "execution_count": 11,
   "metadata": {},
   "outputs": [
    {
     "name": "stdout",
     "output_type": "stream",
     "text": [
      "['ui1wxi1', 'ui1wxi2', 'ui2wxi1', 'ui2wxi2']\n"
     ]
    }
   ],
   "source": [
    "nama_uikxij = []\n",
    "for i in range(len(nama_uik2)):\n",
    "    for j in range(len(nama_uik2)):\n",
    "        nama = f\"ui{i+1}wxi{j+1}\"\n",
    "        nama_uikxij.append(nama)\n",
    "\n",
    "print(nama_uikxij)"
   ]
  },
  {
   "cell_type": "markdown",
   "metadata": {},
   "source": [
    "### Memasukkan nama dan nilai ke dataframe"
   ]
  },
  {
   "cell_type": "code",
   "execution_count": 12,
   "metadata": {},
   "outputs": [
    {
     "data": {
      "text/html": [
       "<div>\n",
       "<style scoped>\n",
       "    .dataframe tbody tr th:only-of-type {\n",
       "        vertical-align: middle;\n",
       "    }\n",
       "\n",
       "    .dataframe tbody tr th {\n",
       "        vertical-align: top;\n",
       "    }\n",
       "\n",
       "    .dataframe thead th {\n",
       "        text-align: right;\n",
       "    }\n",
       "</style>\n",
       "<table border=\"1\" class=\"dataframe\">\n",
       "  <thead>\n",
       "    <tr style=\"text-align: right;\">\n",
       "      <th></th>\n",
       "      <th>0-23 Bulan</th>\n",
       "      <th>24-59 Bulan</th>\n",
       "      <th>k1</th>\n",
       "      <th>k2</th>\n",
       "      <th>ui1w2</th>\n",
       "      <th>ui2w2</th>\n",
       "      <th>ui1wxi1</th>\n",
       "      <th>ui1wxi2</th>\n",
       "      <th>ui2wxi1</th>\n",
       "      <th>ui2wxi2</th>\n",
       "    </tr>\n",
       "  </thead>\n",
       "  <tbody>\n",
       "    <tr>\n",
       "      <th>0</th>\n",
       "      <td>5</td>\n",
       "      <td>12</td>\n",
       "      <td>0.3</td>\n",
       "      <td>0.7</td>\n",
       "      <td>0.09</td>\n",
       "      <td>0.49</td>\n",
       "      <td>0.45</td>\n",
       "      <td>1.08</td>\n",
       "      <td>2.45</td>\n",
       "      <td>5.88</td>\n",
       "    </tr>\n",
       "    <tr>\n",
       "      <th>1</th>\n",
       "      <td>4</td>\n",
       "      <td>10</td>\n",
       "      <td>0.2</td>\n",
       "      <td>0.8</td>\n",
       "      <td>0.04</td>\n",
       "      <td>0.64</td>\n",
       "      <td>0.16</td>\n",
       "      <td>0.40</td>\n",
       "      <td>2.56</td>\n",
       "      <td>6.40</td>\n",
       "    </tr>\n",
       "    <tr>\n",
       "      <th>2</th>\n",
       "      <td>17</td>\n",
       "      <td>9</td>\n",
       "      <td>0.4</td>\n",
       "      <td>0.6</td>\n",
       "      <td>0.16</td>\n",
       "      <td>0.36</td>\n",
       "      <td>2.72</td>\n",
       "      <td>1.44</td>\n",
       "      <td>6.12</td>\n",
       "      <td>3.24</td>\n",
       "    </tr>\n",
       "    <tr>\n",
       "      <th>3</th>\n",
       "      <td>3</td>\n",
       "      <td>7</td>\n",
       "      <td>0.8</td>\n",
       "      <td>0.2</td>\n",
       "      <td>0.64</td>\n",
       "      <td>0.04</td>\n",
       "      <td>1.92</td>\n",
       "      <td>4.48</td>\n",
       "      <td>0.12</td>\n",
       "      <td>0.28</td>\n",
       "    </tr>\n",
       "    <tr>\n",
       "      <th>4</th>\n",
       "      <td>2</td>\n",
       "      <td>15</td>\n",
       "      <td>0.4</td>\n",
       "      <td>0.6</td>\n",
       "      <td>0.16</td>\n",
       "      <td>0.36</td>\n",
       "      <td>0.32</td>\n",
       "      <td>2.40</td>\n",
       "      <td>0.72</td>\n",
       "      <td>5.40</td>\n",
       "    </tr>\n",
       "    <tr>\n",
       "      <th>5</th>\n",
       "      <td>3</td>\n",
       "      <td>13</td>\n",
       "      <td>0.7</td>\n",
       "      <td>0.3</td>\n",
       "      <td>0.49</td>\n",
       "      <td>0.09</td>\n",
       "      <td>1.47</td>\n",
       "      <td>6.37</td>\n",
       "      <td>0.27</td>\n",
       "      <td>1.17</td>\n",
       "    </tr>\n",
       "    <tr>\n",
       "      <th>6</th>\n",
       "      <td>6</td>\n",
       "      <td>11</td>\n",
       "      <td>0.1</td>\n",
       "      <td>0.9</td>\n",
       "      <td>0.01</td>\n",
       "      <td>0.81</td>\n",
       "      <td>0.06</td>\n",
       "      <td>0.11</td>\n",
       "      <td>4.86</td>\n",
       "      <td>8.91</td>\n",
       "    </tr>\n",
       "    <tr>\n",
       "      <th>7</th>\n",
       "      <td>1</td>\n",
       "      <td>2</td>\n",
       "      <td>0.9</td>\n",
       "      <td>0.1</td>\n",
       "      <td>0.81</td>\n",
       "      <td>0.01</td>\n",
       "      <td>0.81</td>\n",
       "      <td>1.62</td>\n",
       "      <td>0.01</td>\n",
       "      <td>0.02</td>\n",
       "    </tr>\n",
       "    <tr>\n",
       "      <th>8</th>\n",
       "      <td>8</td>\n",
       "      <td>11</td>\n",
       "      <td>0.6</td>\n",
       "      <td>0.4</td>\n",
       "      <td>0.36</td>\n",
       "      <td>0.16</td>\n",
       "      <td>2.88</td>\n",
       "      <td>3.96</td>\n",
       "      <td>1.28</td>\n",
       "      <td>1.76</td>\n",
       "    </tr>\n",
       "    <tr>\n",
       "      <th>9</th>\n",
       "      <td>9</td>\n",
       "      <td>20</td>\n",
       "      <td>0.3</td>\n",
       "      <td>0.7</td>\n",
       "      <td>0.09</td>\n",
       "      <td>0.49</td>\n",
       "      <td>0.81</td>\n",
       "      <td>1.80</td>\n",
       "      <td>4.41</td>\n",
       "      <td>9.80</td>\n",
       "    </tr>\n",
       "  </tbody>\n",
       "</table>\n",
       "</div>"
      ],
      "text/plain": [
       "   0-23 Bulan  24-59 Bulan   k1   k2  ui1w2  ui2w2  ui1wxi1  ui1wxi2  ui2wxi1  \\\n",
       "0           5           12  0.3  0.7   0.09   0.49     0.45     1.08     2.45   \n",
       "1           4           10  0.2  0.8   0.04   0.64     0.16     0.40     2.56   \n",
       "2          17            9  0.4  0.6   0.16   0.36     2.72     1.44     6.12   \n",
       "3           3            7  0.8  0.2   0.64   0.04     1.92     4.48     0.12   \n",
       "4           2           15  0.4  0.6   0.16   0.36     0.32     2.40     0.72   \n",
       "5           3           13  0.7  0.3   0.49   0.09     1.47     6.37     0.27   \n",
       "6           6           11  0.1  0.9   0.01   0.81     0.06     0.11     4.86   \n",
       "7           1            2  0.9  0.1   0.81   0.01     0.81     1.62     0.01   \n",
       "8           8           11  0.6  0.4   0.36   0.16     2.88     3.96     1.28   \n",
       "9           9           20  0.3  0.7   0.09   0.49     0.81     1.80     4.41   \n",
       "\n",
       "   ui2wxi2  \n",
       "0     5.88  \n",
       "1     6.40  \n",
       "2     3.24  \n",
       "3     0.28  \n",
       "4     5.40  \n",
       "5     1.17  \n",
       "6     8.91  \n",
       "7     0.02  \n",
       "8     1.76  \n",
       "9     9.80  "
      ]
     },
     "execution_count": 12,
     "metadata": {},
     "output_type": "execute_result"
    }
   ],
   "source": [
    "df_pusat_cluster = data_fuzzy.copy()\n",
    "df_pusat_cluster = df_pusat_cluster.merge(bil_random, left_index=True, right_index=True)\n",
    "df_pusat_cluster = df_pusat_cluster.merge(pd.DataFrame(uik2, columns=nama_uik2), left_index=True, right_index=True)\n",
    "df_pusat_cluster = df_pusat_cluster.merge(pd.DataFrame(uikxij, columns=nama_uikxij), left_index=True, right_index=True)\n",
    "df_pusat_cluster.head(10)"
   ]
  },
  {
   "cell_type": "markdown",
   "metadata": {},
   "source": [
    "# Mencari Total $uiwxi$"
   ]
  },
  {
   "cell_type": "code",
   "execution_count": 13,
   "metadata": {},
   "outputs": [
    {
     "name": "stdout",
     "output_type": "stream",
     "text": [
      "[11.6, 23.66, 22.8, 42.86]\n"
     ]
    }
   ],
   "source": [
    "total_uiwxi = []\n",
    "for nama in nama_uikxij:\n",
    "    total = round(df_pusat_cluster[nama].sum(), 2)\n",
    "    total_uiwxi.append(total)\n",
    "\n",
    "print(total_uiwxi)"
   ]
  },
  {
   "cell_type": "markdown",
   "metadata": {},
   "source": [
    "# Mencari Pusat $Cluster V$"
   ]
  },
  {
   "cell_type": "code",
   "execution_count": 18,
   "metadata": {},
   "outputs": [
    {
     "data": {
      "text/html": [
       "<div>\n",
       "<style scoped>\n",
       "    .dataframe tbody tr th:only-of-type {\n",
       "        vertical-align: middle;\n",
       "    }\n",
       "\n",
       "    .dataframe tbody tr th {\n",
       "        vertical-align: top;\n",
       "    }\n",
       "\n",
       "    .dataframe thead th {\n",
       "        text-align: right;\n",
       "    }\n",
       "</style>\n",
       "<table border=\"1\" class=\"dataframe\">\n",
       "  <thead>\n",
       "    <tr style=\"text-align: right;\">\n",
       "      <th></th>\n",
       "      <th>0</th>\n",
       "      <th>1</th>\n",
       "    </tr>\n",
       "  </thead>\n",
       "  <tbody>\n",
       "    <tr>\n",
       "      <th>0</th>\n",
       "      <td>4.070175</td>\n",
       "      <td>8.301754</td>\n",
       "    </tr>\n",
       "    <tr>\n",
       "      <th>1</th>\n",
       "      <td>6.608696</td>\n",
       "      <td>12.423188</td>\n",
       "    </tr>\n",
       "  </tbody>\n",
       "</table>\n",
       "</div>"
      ],
      "text/plain": [
       "          0          1\n",
       "0  4.070175   8.301754\n",
       "1  6.608696  12.423188"
      ]
     },
     "execution_count": 18,
     "metadata": {},
     "output_type": "execute_result"
    }
   ],
   "source": [
    "index_uiw = 0\n",
    "pusat_cluster = [[] for i in range(jumlah_cluster)]\n",
    "for index, data in enumerate(total_uiwxi):\n",
    "    hitung = data / total_uiw[index_uiw]\n",
    "    pusat_cluster[index_uiw].append(hitung)\n",
    "\n",
    "    if index == len(total_uiwxi) - (2 + 1):\n",
    "        index_uiw += 1\n",
    "\n",
    "df_vkj = pd.DataFrame([pusat_cluster[0], pusat_cluster[1]])\n",
    "df_vkj.head()"
   ]
  },
  {
   "cell_type": "markdown",
   "metadata": {},
   "source": [
    "# Menghitung Fungsi Objektifitas "
   ]
  },
  {
   "cell_type": "code",
   "execution_count": 38,
   "metadata": {},
   "outputs": [
    {
     "name": "stdout",
     "output_type": "stream",
     "text": [
      "0 : 5 * 4.070175438596491 = 0.8645737149892287\n",
      "0 : 12 * 8.301754385964912 = 13.677020621729763\n",
      "\n",
      "1 : 5 * 6.608695652173913 = 2.5879017013232515\n",
      "1 : 12 * 12.4231884057971 = 0.17908842680109138\n",
      "\n",
      "\n",
      "0 : 4 * 4.070175438596491 = 0.004924592182209817\n",
      "0 : 10 * 8.301754385964912 = 2.884038165589412\n",
      "\n",
      "1 : 4 * 6.608695652173913 = 6.805293005671078\n",
      "1 : 10 * 12.4231884057971 = 5.871842049989493\n",
      "\n",
      "\n",
      "0 : 17 * 4.070175438596491 = 167.18036318867348\n",
      "0 : 9 * 8.301754385964912 = 0.4875469375192366\n",
      "\n",
      "1 : 17 * 6.608695652173913 = 107.97920604914933\n",
      "1 : 9 * 12.4231884057971 = 11.718218861583694\n",
      "\n",
      "\n",
      "0 : 3 * 4.070175438596491 = 1.145275469375191\n",
      "0 : 7 * 8.301754385964912 = 1.694564481378886\n",
      "\n",
      "1 : 3 * 6.608695652173913 = 13.022684310018905\n",
      "1 : 7 * 12.4231884057971 = 29.410972484772095\n",
      "\n",
      "\n",
      "0 : 2 * 4.070175438596491 = 4.285626346568172\n",
      "0 : 15 * 8.301754385964912 = 44.866494305940286\n",
      "\n",
      "1 : 2 * 6.608695652173913 = 21.24007561436673\n",
      "1 : 15 * 12.4231884057971 = 6.639957992018489\n",
      "\n",
      "\n",
      "0 : 3 * 4.070175438596491 = 1.145275469375191\n",
      "0 : 13 * 8.301754385964912 = 22.07351184979994\n",
      "\n",
      "1 : 3 * 6.608695652173913 = 13.022684310018905\n",
      "1 : 13 * 12.4231884057971 = 0.3327116152068904\n",
      "\n",
      "\n",
      "0 : 6 * 4.070175438596491 = 3.7242228377962476\n",
      "0 : 11 * 8.301754385964912 = 7.280529393659587\n",
      "\n",
      "1 : 6 * 6.608695652173913 = 0.37051039697542537\n",
      "1 : 11 * 12.4231884057971 = 2.0254652383952925\n",
      "\n",
      "\n",
      "0 : 1 * 4.070175438596491 = 9.425977223761153\n",
      "0 : 2 * 8.301754385964912 = 39.71210834102801\n",
      "\n",
      "1 : 1 * 6.608695652173913 = 31.457466918714555\n",
      "1 : 2 * 12.4231884057971 = 108.6428565427431\n",
      "\n",
      "\n",
      "0 : 8 * 4.070175438596491 = 15.443521083410285\n",
      "0 : 11 * 8.301754385964912 = 7.280529393659587\n",
      "\n",
      "1 : 8 * 6.608695652173913 = 1.935727788279773\n",
      "1 : 11 * 12.4231884057971 = 2.0254652383952925\n",
      "\n",
      "\n",
      "0 : 9 * 4.070175438596491 = 24.303170206217303\n",
      "0 : 20 * 8.301754385964912 = 136.84895044629116\n",
      "\n",
      "1 : 9 * 6.608695652173913 = 5.718336483931947\n",
      "1 : 20 * 12.4231884057971 = 57.408073934047486\n",
      "\n",
      "\n"
     ]
    }
   ],
   "source": [
    "fungsi_objektif = [[] for i in range(jumlah_cluster)]\n",
    "\n",
    "for index_data, data in enumerate(data_fuzzy.values):\n",
    "    for index_cluster, cluster in enumerate(pusat_cluster):\n",
    "        for index_fuzzy, fuzzy in enumerate(data):\n",
    "            hitung = (fuzzy - cluster[index_fuzzy]) ** 2\n",
    "            fungsi_objektif[index_cluster].append(hitung)\n",
    "            print(index_cluster, \":\" ,fuzzy, \"*\" ,cluster[index_fuzzy], \"=\" , hitung)\n",
    "        print()\n",
    "    print()"
   ]
  },
  {
   "cell_type": "code",
   "execution_count": 47,
   "metadata": {},
   "outputs": [
    {
     "name": "stdout",
     "output_type": "stream",
     "text": [
      "0.8645737149892287,13.677020621729763,0.004924592182209817,2.884038165589412,167.18036318867348,0.4875469375192366,1.145275469375191,1.694564481378886,4.285626346568172,44.866494305940286,1.145275469375191,22.07351184979994,3.7242228377962476,7.280529393659587,9.425977223761153,39.71210834102801,15.443521083410285,7.280529393659587,24.303170206217303,136.84895044629116,\n",
      "2.5879017013232515,0.17908842680109138,6.805293005671078,5.871842049989493,107.97920604914933,11.718218861583694,13.022684310018905,29.410972484772095,21.24007561436673,6.639957992018489,13.022684310018905,0.3327116152068904,0.37051039697542537,2.0254652383952925,31.457466918714555,108.6428565427431,1.935727788279773,2.0254652383952925,5.718336483931947,57.408073934047486,\n"
     ]
    }
   ],
   "source": [
    "for objektif in fungsi_objektif:\n",
    "    for index, data in enumerate(objektif):\n",
    "        print(data, end=',')\n",
    "    print()"
   ]
  }
 ],
 "metadata": {
  "kernelspec": {
   "display_name": "analytics",
   "language": "python",
   "name": "python3"
  },
  "language_info": {
   "codemirror_mode": {
    "name": "ipython",
    "version": 3
   },
   "file_extension": ".py",
   "mimetype": "text/x-python",
   "name": "python",
   "nbconvert_exporter": "python",
   "pygments_lexer": "ipython3",
   "version": "3.11.8"
  }
 },
 "nbformat": 4,
 "nbformat_minor": 2
}
