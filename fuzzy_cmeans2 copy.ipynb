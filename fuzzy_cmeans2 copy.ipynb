{
 "cells": [
  {
   "cell_type": "code",
   "execution_count": 41,
   "metadata": {},
   "outputs": [],
   "source": [
    "import pandas as pd\n",
    "import random"
   ]
  },
  {
   "cell_type": "code",
   "execution_count": 42,
   "metadata": {},
   "outputs": [],
   "source": [
    "jumlah_cluster = 2\n",
    "pangkat_pembobotan = 2\n",
    "maksimum_iterasi = 13\n",
    "toleransi_error = 0.01\n",
    "fungsi_objektif = 0\n",
    "iterasi_awal = 0"
   ]
  },
  {
   "cell_type": "markdown",
   "metadata": {},
   "source": [
    "# Import Data Fuzzy"
   ]
  },
  {
   "cell_type": "code",
   "execution_count": 43,
   "metadata": {},
   "outputs": [
    {
     "data": {
      "text/html": [
       "<div>\n",
       "<style scoped>\n",
       "    .dataframe tbody tr th:only-of-type {\n",
       "        vertical-align: middle;\n",
       "    }\n",
       "\n",
       "    .dataframe tbody tr th {\n",
       "        vertical-align: top;\n",
       "    }\n",
       "\n",
       "    .dataframe thead th {\n",
       "        text-align: right;\n",
       "    }\n",
       "</style>\n",
       "<table border=\"1\" class=\"dataframe\">\n",
       "  <thead>\n",
       "    <tr style=\"text-align: right;\">\n",
       "      <th></th>\n",
       "      <th>Kelurahan</th>\n",
       "      <th>0-23 Bulan</th>\n",
       "      <th>24-59 Bulan</th>\n",
       "      <th>Total</th>\n",
       "    </tr>\n",
       "  </thead>\n",
       "  <tbody>\n",
       "    <tr>\n",
       "      <th>0</th>\n",
       "      <td>Sepingan</td>\n",
       "      <td>5</td>\n",
       "      <td>12</td>\n",
       "      <td>17</td>\n",
       "    </tr>\n",
       "    <tr>\n",
       "      <th>1</th>\n",
       "      <td>Damai Baru</td>\n",
       "      <td>4</td>\n",
       "      <td>10</td>\n",
       "      <td>14</td>\n",
       "    </tr>\n",
       "    <tr>\n",
       "      <th>2</th>\n",
       "      <td>Damai Bahagia</td>\n",
       "      <td>17</td>\n",
       "      <td>9</td>\n",
       "      <td>26</td>\n",
       "    </tr>\n",
       "    <tr>\n",
       "      <th>3</th>\n",
       "      <td>Telaga Sari</td>\n",
       "      <td>3</td>\n",
       "      <td>7</td>\n",
       "      <td>10</td>\n",
       "    </tr>\n",
       "    <tr>\n",
       "      <th>4</th>\n",
       "      <td>Prapatan</td>\n",
       "      <td>2</td>\n",
       "      <td>15</td>\n",
       "      <td>17</td>\n",
       "    </tr>\n",
       "  </tbody>\n",
       "</table>\n",
       "</div>"
      ],
      "text/plain": [
       "       Kelurahan  0-23 Bulan  24-59 Bulan  Total\n",
       "0       Sepingan           5           12     17\n",
       "1     Damai Baru           4           10     14\n",
       "2  Damai Bahagia          17            9     26\n",
       "3    Telaga Sari           3            7     10\n",
       "4       Prapatan           2           15     17"
      ]
     },
     "execution_count": 43,
     "metadata": {},
     "output_type": "execute_result"
    }
   ],
   "source": [
    "data_fuzzy = pd.read_csv('data_kesehatan.csv')\n",
    "data_fuzzy.head()"
   ]
  },
  {
   "cell_type": "code",
   "execution_count": 44,
   "metadata": {},
   "outputs": [
    {
     "data": {
      "text/plain": [
       "10"
      ]
     },
     "execution_count": 44,
     "metadata": {},
     "output_type": "execute_result"
    }
   ],
   "source": [
    "len(data_fuzzy)"
   ]
  },
  {
   "cell_type": "code",
   "execution_count": 45,
   "metadata": {},
   "outputs": [
    {
     "data": {
      "text/html": [
       "<div>\n",
       "<style scoped>\n",
       "    .dataframe tbody tr th:only-of-type {\n",
       "        vertical-align: middle;\n",
       "    }\n",
       "\n",
       "    .dataframe tbody tr th {\n",
       "        vertical-align: top;\n",
       "    }\n",
       "\n",
       "    .dataframe thead th {\n",
       "        text-align: right;\n",
       "    }\n",
       "</style>\n",
       "<table border=\"1\" class=\"dataframe\">\n",
       "  <thead>\n",
       "    <tr style=\"text-align: right;\">\n",
       "      <th></th>\n",
       "      <th>0-23 Bulan</th>\n",
       "      <th>24-59 Bulan</th>\n",
       "    </tr>\n",
       "  </thead>\n",
       "  <tbody>\n",
       "    <tr>\n",
       "      <th>0</th>\n",
       "      <td>5</td>\n",
       "      <td>12</td>\n",
       "    </tr>\n",
       "    <tr>\n",
       "      <th>1</th>\n",
       "      <td>4</td>\n",
       "      <td>10</td>\n",
       "    </tr>\n",
       "    <tr>\n",
       "      <th>2</th>\n",
       "      <td>17</td>\n",
       "      <td>9</td>\n",
       "    </tr>\n",
       "    <tr>\n",
       "      <th>3</th>\n",
       "      <td>3</td>\n",
       "      <td>7</td>\n",
       "    </tr>\n",
       "    <tr>\n",
       "      <th>4</th>\n",
       "      <td>2</td>\n",
       "      <td>15</td>\n",
       "    </tr>\n",
       "    <tr>\n",
       "      <th>5</th>\n",
       "      <td>3</td>\n",
       "      <td>13</td>\n",
       "    </tr>\n",
       "    <tr>\n",
       "      <th>6</th>\n",
       "      <td>6</td>\n",
       "      <td>11</td>\n",
       "    </tr>\n",
       "    <tr>\n",
       "      <th>7</th>\n",
       "      <td>1</td>\n",
       "      <td>2</td>\n",
       "    </tr>\n",
       "    <tr>\n",
       "      <th>8</th>\n",
       "      <td>8</td>\n",
       "      <td>11</td>\n",
       "    </tr>\n",
       "    <tr>\n",
       "      <th>9</th>\n",
       "      <td>9</td>\n",
       "      <td>20</td>\n",
       "    </tr>\n",
       "  </tbody>\n",
       "</table>\n",
       "</div>"
      ],
      "text/plain": [
       "   0-23 Bulan  24-59 Bulan\n",
       "0           5           12\n",
       "1           4           10\n",
       "2          17            9\n",
       "3           3            7\n",
       "4           2           15\n",
       "5           3           13\n",
       "6           6           11\n",
       "7           1            2\n",
       "8           8           11\n",
       "9           9           20"
      ]
     },
     "execution_count": 45,
     "metadata": {},
     "output_type": "execute_result"
    }
   ],
   "source": [
    "data_fuzzy = data_fuzzy.drop(['Kelurahan', 'Total'], axis=1)\n",
    "data_fuzzy.head(10)"
   ]
  },
  {
   "cell_type": "markdown",
   "metadata": {},
   "source": [
    "# Menentukan Bilangan Random"
   ]
  },
  {
   "cell_type": "code",
   "execution_count": 46,
   "metadata": {},
   "outputs": [
    {
     "name": "stdout",
     "output_type": "stream",
     "text": [
      "0.39,0.48,0.13\n",
      "0.06,0.6,0.34\n",
      "0.4,0.34,0.26\n",
      "0.54,0.13,0.33\n",
      "0.85,0.1,0.06\n",
      "0.01,0.43,0.56\n",
      "0.14,0.48,0.38\n",
      "0.27,0.23,0.5\n",
      "0.19,0.49,0.32\n",
      "0.39,0.29,0.32\n",
      "0.21,0.34,0.45\n",
      "0.37,0.18,0.45\n",
      "0.19,0.45,0.36\n",
      "0.0,0.72,0.28\n",
      "0.59,0.08,0.33\n",
      "0.22,0.46,0.32\n",
      "0.28,0.33,0.39\n",
      "0.27,0.6,0.13\n",
      "0.3,0.42,0.29\n",
      "0.51,0.22,0.27\n",
      "0.33,0.44,0.23\n",
      "0.5,0.45,0.06\n",
      "0.19,0.46,0.35\n",
      "0.41,0.25,0.34\n",
      "0.15,0.34,0.51\n",
      "0.12,0.08,0.79\n",
      "0.77,0.15,0.08\n",
      "0.28,0.17,0.54\n",
      "0.17,0.26,0.57\n",
      "0.32,0.68,0.01\n"
     ]
    }
   ],
   "source": [
    "import random\n",
    "\n",
    "def generate_random_data():\n",
    "    a = random.random()\n",
    "    b = random.random()\n",
    "    c = random.random()\n",
    "    \n",
    "    total = a + b + c\n",
    "    a /= total\n",
    "    b /= total\n",
    "    c /= total\n",
    "    \n",
    "    return a, b, c\n",
    "\n",
    "for i in range(39):\n",
    "    a, b, c = generate_random_data()\n",
    "    if sum([a,b,c]) == 1:\n",
    "        print(f\"{round(a,2)},{round(b,2)},{round(c,2)}\")\n"
   ]
  },
  {
   "cell_type": "markdown",
   "metadata": {},
   "source": [
    "# Import Bilangan Random"
   ]
  },
  {
   "cell_type": "code",
   "execution_count": 47,
   "metadata": {},
   "outputs": [],
   "source": [
    "bil_random = pd.read_csv('bilangan_random.csv')[:10]"
   ]
  },
  {
   "cell_type": "markdown",
   "metadata": {},
   "source": [
    "# Mencari $uik^2$"
   ]
  },
  {
   "cell_type": "code",
   "execution_count": 48,
   "metadata": {},
   "outputs": [
    {
     "name": "stdout",
     "output_type": "stream",
     "text": [
      "[0.09, 0.49]\n",
      "[0.04, 0.64]\n",
      "[0.16, 0.36]\n",
      "[0.64, 0.04]\n",
      "[0.16, 0.36]\n",
      "[0.49, 0.09]\n",
      "[0.01, 0.81]\n",
      "[0.81, 0.01]\n",
      "[0.36, 0.16]\n",
      "[0.09, 0.49]\n"
     ]
    }
   ],
   "source": [
    "uik2 = []\n",
    "for index_list, list_data in bil_random.iterrows():\n",
    "    uikw2 = []\n",
    "    for index_data, data in enumerate(list_data):\n",
    "        # print(data, end=' ')\n",
    "        \n",
    "        hitung = round(data ** pangkat_pembobotan, 2)\n",
    "        uikw2.append(hitung)\n",
    "    uik2.append(uikw2)\n",
    "\n",
    "for data in uik2:\n",
    "    print(data)"
   ]
  },
  {
   "cell_type": "markdown",
   "metadata": {},
   "source": [
    "# Mencari Total $uik^2$"
   ]
  },
  {
   "cell_type": "code",
   "execution_count": 49,
   "metadata": {},
   "outputs": [
    {
     "name": "stdout",
     "output_type": "stream",
     "text": [
      "[2.85, 3.45]\n"
     ]
    }
   ],
   "source": [
    "total_uiw = []\n",
    "\n",
    "for kolom in range(len(data_fuzzy.columns)):\n",
    "    total = 0\n",
    "    for data in uik2:\n",
    "        total += data[kolom]\n",
    "        \n",
    "    total_uiw.append(round(total,2))\n",
    "\n",
    "print(total_uiw)"
   ]
  },
  {
   "cell_type": "code",
   "execution_count": 50,
   "metadata": {},
   "outputs": [
    {
     "name": "stdout",
     "output_type": "stream",
     "text": [
      "[0.45, 1.08, 2.45, 5.88]\n",
      "\n",
      "[0.16, 0.4, 2.56, 6.4]\n",
      "\n",
      "[2.72, 1.44, 6.12, 3.24]\n",
      "\n",
      "[1.92, 4.48, 0.12, 0.28]\n",
      "\n",
      "[0.32, 2.4, 0.72, 5.4]\n",
      "\n",
      "[1.47, 6.37, 0.27, 1.17]\n",
      "\n",
      "[0.06, 0.11, 4.86, 8.91]\n",
      "\n",
      "[0.81, 1.62, 0.01, 0.02]\n",
      "\n",
      "[2.88, 3.96, 1.28, 1.76]\n",
      "\n",
      "[0.81, 1.8, 4.41, 9.8]\n",
      "\n"
     ]
    }
   ],
   "source": [
    "uikxij = []\n",
    "\n",
    "for index_list, list_data in data_fuzzy.iterrows():\n",
    "    uikw2xij : list = []\n",
    "    for index_data, data in enumerate(uik2[index_list]):\n",
    "        uikw2xij_list : list = []\n",
    "        for index_data2, data2 in enumerate(list_data):\n",
    "            # print(data, data2, end=',')\n",
    "            hitung = round(data * data2, 2)\n",
    "            uikw2xij_list.append(hitung)\n",
    "\n",
    "        uikw2xij.extend(uikw2xij_list)\n",
    "    uikxij.append(uikw2xij)\n",
    "\n",
    "for data in uikxij:\n",
    "    print(data)\n",
    "    print()"
   ]
  },
  {
   "cell_type": "markdown",
   "metadata": {},
   "source": [
    "# Membuat dataframe pusat $cluster V$"
   ]
  },
  {
   "cell_type": "markdown",
   "metadata": {},
   "source": [
    "### Menentukan nama $uik^2$"
   ]
  },
  {
   "cell_type": "code",
   "execution_count": 51,
   "metadata": {},
   "outputs": [
    {
     "name": "stdout",
     "output_type": "stream",
     "text": [
      "['ui1w2', 'ui2w2']\n"
     ]
    }
   ],
   "source": [
    "nama_uik2 = []\n",
    "for i in range(len(bil_random.columns)):\n",
    "    nama_uik2.append(f'ui{i+1}w2')\n",
    "    \n",
    "print(nama_uik2)"
   ]
  },
  {
   "cell_type": "markdown",
   "metadata": {},
   "source": [
    "### Menentukan nama $uik*xij$"
   ]
  },
  {
   "cell_type": "code",
   "execution_count": 52,
   "metadata": {},
   "outputs": [
    {
     "name": "stdout",
     "output_type": "stream",
     "text": [
      "['ui1wxi1', 'ui1wxi2', 'ui2wxi1', 'ui2wxi2']\n"
     ]
    }
   ],
   "source": [
    "nama_uikxij = []\n",
    "for i in range(len(nama_uik2)):\n",
    "    for j in range(len(nama_uik2)):\n",
    "        nama = f\"ui{i+1}wxi{j+1}\"\n",
    "        nama_uikxij.append(nama)\n",
    "\n",
    "print(nama_uikxij)"
   ]
  },
  {
   "cell_type": "markdown",
   "metadata": {},
   "source": [
    "### Memasukkan nama dan nilai ke dataframe"
   ]
  },
  {
   "cell_type": "code",
   "execution_count": 53,
   "metadata": {},
   "outputs": [
    {
     "data": {
      "text/html": [
       "<div>\n",
       "<style scoped>\n",
       "    .dataframe tbody tr th:only-of-type {\n",
       "        vertical-align: middle;\n",
       "    }\n",
       "\n",
       "    .dataframe tbody tr th {\n",
       "        vertical-align: top;\n",
       "    }\n",
       "\n",
       "    .dataframe thead th {\n",
       "        text-align: right;\n",
       "    }\n",
       "</style>\n",
       "<table border=\"1\" class=\"dataframe\">\n",
       "  <thead>\n",
       "    <tr style=\"text-align: right;\">\n",
       "      <th></th>\n",
       "      <th>0-23 Bulan</th>\n",
       "      <th>24-59 Bulan</th>\n",
       "      <th>k1</th>\n",
       "      <th>k2</th>\n",
       "      <th>ui1w2</th>\n",
       "      <th>ui2w2</th>\n",
       "      <th>ui1wxi1</th>\n",
       "      <th>ui1wxi2</th>\n",
       "      <th>ui2wxi1</th>\n",
       "      <th>ui2wxi2</th>\n",
       "    </tr>\n",
       "  </thead>\n",
       "  <tbody>\n",
       "    <tr>\n",
       "      <th>0</th>\n",
       "      <td>5</td>\n",
       "      <td>12</td>\n",
       "      <td>0.3</td>\n",
       "      <td>0.7</td>\n",
       "      <td>0.09</td>\n",
       "      <td>0.49</td>\n",
       "      <td>0.45</td>\n",
       "      <td>1.08</td>\n",
       "      <td>2.45</td>\n",
       "      <td>5.88</td>\n",
       "    </tr>\n",
       "    <tr>\n",
       "      <th>1</th>\n",
       "      <td>4</td>\n",
       "      <td>10</td>\n",
       "      <td>0.2</td>\n",
       "      <td>0.8</td>\n",
       "      <td>0.04</td>\n",
       "      <td>0.64</td>\n",
       "      <td>0.16</td>\n",
       "      <td>0.40</td>\n",
       "      <td>2.56</td>\n",
       "      <td>6.40</td>\n",
       "    </tr>\n",
       "    <tr>\n",
       "      <th>2</th>\n",
       "      <td>17</td>\n",
       "      <td>9</td>\n",
       "      <td>0.4</td>\n",
       "      <td>0.6</td>\n",
       "      <td>0.16</td>\n",
       "      <td>0.36</td>\n",
       "      <td>2.72</td>\n",
       "      <td>1.44</td>\n",
       "      <td>6.12</td>\n",
       "      <td>3.24</td>\n",
       "    </tr>\n",
       "    <tr>\n",
       "      <th>3</th>\n",
       "      <td>3</td>\n",
       "      <td>7</td>\n",
       "      <td>0.8</td>\n",
       "      <td>0.2</td>\n",
       "      <td>0.64</td>\n",
       "      <td>0.04</td>\n",
       "      <td>1.92</td>\n",
       "      <td>4.48</td>\n",
       "      <td>0.12</td>\n",
       "      <td>0.28</td>\n",
       "    </tr>\n",
       "    <tr>\n",
       "      <th>4</th>\n",
       "      <td>2</td>\n",
       "      <td>15</td>\n",
       "      <td>0.4</td>\n",
       "      <td>0.6</td>\n",
       "      <td>0.16</td>\n",
       "      <td>0.36</td>\n",
       "      <td>0.32</td>\n",
       "      <td>2.40</td>\n",
       "      <td>0.72</td>\n",
       "      <td>5.40</td>\n",
       "    </tr>\n",
       "    <tr>\n",
       "      <th>5</th>\n",
       "      <td>3</td>\n",
       "      <td>13</td>\n",
       "      <td>0.7</td>\n",
       "      <td>0.3</td>\n",
       "      <td>0.49</td>\n",
       "      <td>0.09</td>\n",
       "      <td>1.47</td>\n",
       "      <td>6.37</td>\n",
       "      <td>0.27</td>\n",
       "      <td>1.17</td>\n",
       "    </tr>\n",
       "    <tr>\n",
       "      <th>6</th>\n",
       "      <td>6</td>\n",
       "      <td>11</td>\n",
       "      <td>0.1</td>\n",
       "      <td>0.9</td>\n",
       "      <td>0.01</td>\n",
       "      <td>0.81</td>\n",
       "      <td>0.06</td>\n",
       "      <td>0.11</td>\n",
       "      <td>4.86</td>\n",
       "      <td>8.91</td>\n",
       "    </tr>\n",
       "    <tr>\n",
       "      <th>7</th>\n",
       "      <td>1</td>\n",
       "      <td>2</td>\n",
       "      <td>0.9</td>\n",
       "      <td>0.1</td>\n",
       "      <td>0.81</td>\n",
       "      <td>0.01</td>\n",
       "      <td>0.81</td>\n",
       "      <td>1.62</td>\n",
       "      <td>0.01</td>\n",
       "      <td>0.02</td>\n",
       "    </tr>\n",
       "    <tr>\n",
       "      <th>8</th>\n",
       "      <td>8</td>\n",
       "      <td>11</td>\n",
       "      <td>0.6</td>\n",
       "      <td>0.4</td>\n",
       "      <td>0.36</td>\n",
       "      <td>0.16</td>\n",
       "      <td>2.88</td>\n",
       "      <td>3.96</td>\n",
       "      <td>1.28</td>\n",
       "      <td>1.76</td>\n",
       "    </tr>\n",
       "    <tr>\n",
       "      <th>9</th>\n",
       "      <td>9</td>\n",
       "      <td>20</td>\n",
       "      <td>0.3</td>\n",
       "      <td>0.7</td>\n",
       "      <td>0.09</td>\n",
       "      <td>0.49</td>\n",
       "      <td>0.81</td>\n",
       "      <td>1.80</td>\n",
       "      <td>4.41</td>\n",
       "      <td>9.80</td>\n",
       "    </tr>\n",
       "  </tbody>\n",
       "</table>\n",
       "</div>"
      ],
      "text/plain": [
       "   0-23 Bulan  24-59 Bulan   k1   k2  ui1w2  ui2w2  ui1wxi1  ui1wxi2  ui2wxi1  \\\n",
       "0           5           12  0.3  0.7   0.09   0.49     0.45     1.08     2.45   \n",
       "1           4           10  0.2  0.8   0.04   0.64     0.16     0.40     2.56   \n",
       "2          17            9  0.4  0.6   0.16   0.36     2.72     1.44     6.12   \n",
       "3           3            7  0.8  0.2   0.64   0.04     1.92     4.48     0.12   \n",
       "4           2           15  0.4  0.6   0.16   0.36     0.32     2.40     0.72   \n",
       "5           3           13  0.7  0.3   0.49   0.09     1.47     6.37     0.27   \n",
       "6           6           11  0.1  0.9   0.01   0.81     0.06     0.11     4.86   \n",
       "7           1            2  0.9  0.1   0.81   0.01     0.81     1.62     0.01   \n",
       "8           8           11  0.6  0.4   0.36   0.16     2.88     3.96     1.28   \n",
       "9           9           20  0.3  0.7   0.09   0.49     0.81     1.80     4.41   \n",
       "\n",
       "   ui2wxi2  \n",
       "0     5.88  \n",
       "1     6.40  \n",
       "2     3.24  \n",
       "3     0.28  \n",
       "4     5.40  \n",
       "5     1.17  \n",
       "6     8.91  \n",
       "7     0.02  \n",
       "8     1.76  \n",
       "9     9.80  "
      ]
     },
     "execution_count": 53,
     "metadata": {},
     "output_type": "execute_result"
    }
   ],
   "source": [
    "df_pusat_cluster = data_fuzzy.copy()\n",
    "df_pusat_cluster = df_pusat_cluster.merge(bil_random, left_index=True, right_index=True)\n",
    "df_pusat_cluster = df_pusat_cluster.merge(pd.DataFrame(uik2, columns=nama_uik2), left_index=True, right_index=True)\n",
    "df_pusat_cluster = df_pusat_cluster.merge(pd.DataFrame(uikxij, columns=nama_uikxij), left_index=True, right_index=True)\n",
    "df_pusat_cluster.head(10)"
   ]
  },
  {
   "cell_type": "markdown",
   "metadata": {},
   "source": [
    "# Mencari Total $uiwxi$"
   ]
  },
  {
   "cell_type": "code",
   "execution_count": 54,
   "metadata": {},
   "outputs": [
    {
     "name": "stdout",
     "output_type": "stream",
     "text": [
      "[11.6, 23.66, 22.8, 42.86]\n"
     ]
    }
   ],
   "source": [
    "total_uiwxi = []\n",
    "for nama in nama_uikxij:\n",
    "    total = round(df_pusat_cluster[nama].sum(), 2)\n",
    "    total_uiwxi.append(total)\n",
    "\n",
    "print(total_uiwxi)"
   ]
  },
  {
   "cell_type": "markdown",
   "metadata": {},
   "source": [
    "# Mencari Pusat $Cluster V$"
   ]
  },
  {
   "cell_type": "code",
   "execution_count": 55,
   "metadata": {},
   "outputs": [
    {
     "data": {
      "text/html": [
       "<div>\n",
       "<style scoped>\n",
       "    .dataframe tbody tr th:only-of-type {\n",
       "        vertical-align: middle;\n",
       "    }\n",
       "\n",
       "    .dataframe tbody tr th {\n",
       "        vertical-align: top;\n",
       "    }\n",
       "\n",
       "    .dataframe thead th {\n",
       "        text-align: right;\n",
       "    }\n",
       "</style>\n",
       "<table border=\"1\" class=\"dataframe\">\n",
       "  <thead>\n",
       "    <tr style=\"text-align: right;\">\n",
       "      <th></th>\n",
       "      <th>0</th>\n",
       "      <th>1</th>\n",
       "    </tr>\n",
       "  </thead>\n",
       "  <tbody>\n",
       "    <tr>\n",
       "      <th>0</th>\n",
       "      <td>4.070175</td>\n",
       "      <td>8.301754</td>\n",
       "    </tr>\n",
       "    <tr>\n",
       "      <th>1</th>\n",
       "      <td>6.608696</td>\n",
       "      <td>12.423188</td>\n",
       "    </tr>\n",
       "  </tbody>\n",
       "</table>\n",
       "</div>"
      ],
      "text/plain": [
       "          0          1\n",
       "0  4.070175   8.301754\n",
       "1  6.608696  12.423188"
      ]
     },
     "execution_count": 55,
     "metadata": {},
     "output_type": "execute_result"
    }
   ],
   "source": [
    "index_uiw = 0\n",
    "pusat_cluster = [[] for i in range(jumlah_cluster)]\n",
    "for index_uiwxi , data in enumerate(total_uiwxi):\n",
    "    # print(data, total_uiw[index_uiw])\n",
    "    hitung = data / total_uiw[index_uiw]\n",
    "    pusat_cluster[index_uiw].append(hitung)\n",
    "\n",
    "    if (index_uiwxi + 1) % jumlah_cluster == 0:\n",
    "        index_uiw += 1\n",
    "\n",
    "df_vkj = pd.DataFrame(pusat_cluster)\n",
    "df_vkj.head()"
   ]
  },
  {
   "cell_type": "markdown",
   "metadata": {},
   "source": [
    "# Menghitung Fungsi Objektifitas dengan rumus \\n\n",
    "### Rumus $P_1 = \\sum_{i=1}^{10} \\sum_{k=1}^2 ([\\sum_{j=1}^2(X_{ij}- V_kj)^2](\\mu_{ik})^2)$"
   ]
  },
  {
   "cell_type": "code",
   "execution_count": 56,
   "metadata": {},
   "outputs": [],
   "source": [
    "list_objektif = [[] for i in range(jumlah_cluster)]\n",
    "\n",
    "for index_data, data in enumerate(data_fuzzy.values):\n",
    "    for index_cluster, cluster in enumerate(pusat_cluster):\n",
    "        no_cluster = []\n",
    "        for index_fuzzy, fuzzy in enumerate(data):\n",
    "            hitung = (fuzzy - cluster[index_fuzzy]) ** 2\n",
    "            # print(index_cluster, \":\" ,fuzzy, \"*\" ,cluster[index_fuzzy], \"=\" , hitung)\n",
    "\n",
    "            no_cluster.append(hitung)\n",
    "        list_objektif[index_cluster].append(no_cluster)"
   ]
  },
  {
   "cell_type": "code",
   "execution_count": 57,
   "metadata": {},
   "outputs": [
    {
     "name": "stdout",
     "output_type": "stream",
     "text": [
      "[0.8645737149892287, 13.677020621729763],[0.004924592182209817, 2.884038165589412],[167.18036318867348, 0.4875469375192366],[1.145275469375191, 1.694564481378886],[4.285626346568172, 44.866494305940286],[1.145275469375191, 22.07351184979994],[3.7242228377962476, 7.280529393659587],[9.425977223761153, 39.71210834102801],[15.443521083410285, 7.280529393659587],[24.303170206217303, 136.84895044629116],\n",
      "[2.5879017013232515, 0.17908842680109138],[6.805293005671078, 5.871842049989493],[107.97920604914933, 11.718218861583694],[13.022684310018905, 29.410972484772095],[21.24007561436673, 6.639957992018489],[13.022684310018905, 0.3327116152068904],[0.37051039697542537, 2.0254652383952925],[31.457466918714555, 108.6428565427431],[1.935727788279773, 2.0254652383952925],[5.718336483931947, 57.408073934047486],\n"
     ]
    }
   ],
   "source": [
    "for objektif in list_objektif:\n",
    "    for index, data in enumerate(objektif):\n",
    "        print(data, end=',')\n",
    "    print()"
   ]
  },
  {
   "cell_type": "markdown",
   "metadata": {},
   "source": [
    "### Membuat Data Frame Cluster"
   ]
  },
  {
   "cell_type": "code",
   "execution_count": 58,
   "metadata": {},
   "outputs": [],
   "source": [
    "df_cluster = []\n",
    "nama_kolom_cluster = [f\"xi{i+1}_vi{i+1}\" for i in range(jumlah_cluster)]\n",
    "nama_kolom_cluster.append('total')\n",
    "\n",
    "for index_objektif, objektif in enumerate(list_objektif):\n",
    "    df_nilai = pd.DataFrame(columns=nama_kolom_cluster)\n",
    "    for index_nilai, nilai in enumerate(objektif):\n",
    "        total = sum(nilai)\n",
    "        nilai.append(total)\n",
    "        df_nilai.loc[index_nilai] = nilai\n",
    "    df_cluster.append(df_nilai)"
   ]
  },
  {
   "cell_type": "markdown",
   "metadata": {},
   "source": [
    "### Menampilkan Cluster 1"
   ]
  },
  {
   "cell_type": "code",
   "execution_count": 59,
   "metadata": {},
   "outputs": [
    {
     "data": {
      "text/html": [
       "<div>\n",
       "<style scoped>\n",
       "    .dataframe tbody tr th:only-of-type {\n",
       "        vertical-align: middle;\n",
       "    }\n",
       "\n",
       "    .dataframe tbody tr th {\n",
       "        vertical-align: top;\n",
       "    }\n",
       "\n",
       "    .dataframe thead th {\n",
       "        text-align: right;\n",
       "    }\n",
       "</style>\n",
       "<table border=\"1\" class=\"dataframe\">\n",
       "  <thead>\n",
       "    <tr style=\"text-align: right;\">\n",
       "      <th></th>\n",
       "      <th>xi1_vi1</th>\n",
       "      <th>xi2_vi2</th>\n",
       "      <th>total</th>\n",
       "    </tr>\n",
       "  </thead>\n",
       "  <tbody>\n",
       "    <tr>\n",
       "      <th>0</th>\n",
       "      <td>0.864574</td>\n",
       "      <td>13.677021</td>\n",
       "      <td>14.541594</td>\n",
       "    </tr>\n",
       "    <tr>\n",
       "      <th>1</th>\n",
       "      <td>0.004925</td>\n",
       "      <td>2.884038</td>\n",
       "      <td>2.888963</td>\n",
       "    </tr>\n",
       "    <tr>\n",
       "      <th>2</th>\n",
       "      <td>167.180363</td>\n",
       "      <td>0.487547</td>\n",
       "      <td>167.667910</td>\n",
       "    </tr>\n",
       "    <tr>\n",
       "      <th>3</th>\n",
       "      <td>1.145275</td>\n",
       "      <td>1.694564</td>\n",
       "      <td>2.839840</td>\n",
       "    </tr>\n",
       "    <tr>\n",
       "      <th>4</th>\n",
       "      <td>4.285626</td>\n",
       "      <td>44.866494</td>\n",
       "      <td>49.152121</td>\n",
       "    </tr>\n",
       "  </tbody>\n",
       "</table>\n",
       "</div>"
      ],
      "text/plain": [
       "      xi1_vi1    xi2_vi2       total\n",
       "0    0.864574  13.677021   14.541594\n",
       "1    0.004925   2.884038    2.888963\n",
       "2  167.180363   0.487547  167.667910\n",
       "3    1.145275   1.694564    2.839840\n",
       "4    4.285626  44.866494   49.152121"
      ]
     },
     "execution_count": 59,
     "metadata": {},
     "output_type": "execute_result"
    }
   ],
   "source": [
    "df_cluster[0].head()"
   ]
  },
  {
   "cell_type": "markdown",
   "metadata": {},
   "source": [
    "### Menampilkan Cluster 2"
   ]
  },
  {
   "cell_type": "code",
   "execution_count": 60,
   "metadata": {},
   "outputs": [
    {
     "data": {
      "text/html": [
       "<div>\n",
       "<style scoped>\n",
       "    .dataframe tbody tr th:only-of-type {\n",
       "        vertical-align: middle;\n",
       "    }\n",
       "\n",
       "    .dataframe tbody tr th {\n",
       "        vertical-align: top;\n",
       "    }\n",
       "\n",
       "    .dataframe thead th {\n",
       "        text-align: right;\n",
       "    }\n",
       "</style>\n",
       "<table border=\"1\" class=\"dataframe\">\n",
       "  <thead>\n",
       "    <tr style=\"text-align: right;\">\n",
       "      <th></th>\n",
       "      <th>xi1_vi1</th>\n",
       "      <th>xi2_vi2</th>\n",
       "      <th>total</th>\n",
       "    </tr>\n",
       "  </thead>\n",
       "  <tbody>\n",
       "    <tr>\n",
       "      <th>0</th>\n",
       "      <td>2.587902</td>\n",
       "      <td>0.179088</td>\n",
       "      <td>2.766990</td>\n",
       "    </tr>\n",
       "    <tr>\n",
       "      <th>1</th>\n",
       "      <td>6.805293</td>\n",
       "      <td>5.871842</td>\n",
       "      <td>12.677135</td>\n",
       "    </tr>\n",
       "    <tr>\n",
       "      <th>2</th>\n",
       "      <td>107.979206</td>\n",
       "      <td>11.718219</td>\n",
       "      <td>119.697425</td>\n",
       "    </tr>\n",
       "    <tr>\n",
       "      <th>3</th>\n",
       "      <td>13.022684</td>\n",
       "      <td>29.410972</td>\n",
       "      <td>42.433657</td>\n",
       "    </tr>\n",
       "    <tr>\n",
       "      <th>4</th>\n",
       "      <td>21.240076</td>\n",
       "      <td>6.639958</td>\n",
       "      <td>27.880034</td>\n",
       "    </tr>\n",
       "  </tbody>\n",
       "</table>\n",
       "</div>"
      ],
      "text/plain": [
       "      xi1_vi1    xi2_vi2       total\n",
       "0    2.587902   0.179088    2.766990\n",
       "1    6.805293   5.871842   12.677135\n",
       "2  107.979206  11.718219  119.697425\n",
       "3   13.022684  29.410972   42.433657\n",
       "4   21.240076   6.639958   27.880034"
      ]
     },
     "execution_count": 60,
     "metadata": {},
     "output_type": "execute_result"
    }
   ],
   "source": [
    "df_cluster[1].head()"
   ]
  },
  {
   "cell_type": "markdown",
   "metadata": {},
   "source": [
    "### Menampilkan Cluster 3"
   ]
  },
  {
   "cell_type": "code",
   "execution_count": 61,
   "metadata": {},
   "outputs": [
    {
     "ename": "IndexError",
     "evalue": "list index out of range",
     "output_type": "error",
     "traceback": [
      "\u001b[1;31m---------------------------------------------------------------------------\u001b[0m",
      "\u001b[1;31mIndexError\u001b[0m                                Traceback (most recent call last)",
      "Cell \u001b[1;32mIn[61], line 1\u001b[0m\n\u001b[1;32m----> 1\u001b[0m df_cluster[\u001b[38;5;241m2\u001b[39m]\u001b[38;5;241m.\u001b[39mhead()\n",
      "\u001b[1;31mIndexError\u001b[0m: list index out of range"
     ]
    }
   ],
   "source": [
    "df_cluster[2].head()"
   ]
  },
  {
   "cell_type": "markdown",
   "metadata": {},
   "source": [
    "### Menghitung fungsi objektifitas pada suatu iterasi"
   ]
  },
  {
   "cell_type": "code",
   "execution_count": null,
   "metadata": {},
   "outputs": [],
   "source": [
    "p_cluster = []\n",
    "\n",
    "for index_cluster, cluster in enumerate(df_cluster):\n",
    "    hitung_cluster = []\n",
    "    for index_data, data in enumerate(cluster['total']):\n",
    "        hitung = data * uik2[index_data][index_cluster]\n",
    "        hitung_cluster.append(hitung)\n",
    "\n",
    "    p_cluster.append(hitung_cluster)"
   ]
  },
  {
   "cell_type": "code",
   "execution_count": null,
   "metadata": {},
   "outputs": [
    {
     "name": "stdout",
     "output_type": "stream",
     "text": [
      "[1.3087434903047093, 0.11555851031086486, 26.826865620190834, 1.8174975684826091, 7.864339304401353, 11.377205786395812, 0.11004752231455836, 39.80184930747922, 8.180658171745154, 14.503690858725761]\n",
      "[1.3558251627809281, 8.113366435622765, 43.09107296786389, 1.6973462717916399, 10.036812098298679, 1.2019856332703214, 1.9407402646502816, 1.4010032346145767, 0.6337908842680104, 30.931941104809923]\n"
     ]
    }
   ],
   "source": [
    "for total in p_cluster:\n",
    "    print(total)"
   ]
  },
  {
   "cell_type": "code",
   "execution_count": null,
   "metadata": {},
   "outputs": [],
   "source": [
    "p_total = []\n",
    "\n",
    "for i in range(len(p_cluster[0])):\n",
    "    total = 0\n",
    "    for j in range(jumlah_cluster):\n",
    "        total += p_cluster[j][i]\n",
    "\n",
    "    p_total.append(total)"
   ]
  },
  {
   "cell_type": "code",
   "execution_count": null,
   "metadata": {},
   "outputs": [
    {
     "name": "stdout",
     "output_type": "stream",
     "text": [
      "2.664568653085637\n",
      "8.228924945933631\n",
      "69.91793858805472\n",
      "3.5148438402742492\n",
      "17.90115140270003\n",
      "12.579191419666135\n",
      "2.05078778696484\n",
      "41.2028525420938\n",
      "8.814449056013165\n",
      "45.435631963535684\n"
     ]
    }
   ],
   "source": [
    "for total in p_total:\n",
    "    print(total)"
   ]
  },
  {
   "cell_type": "code",
   "execution_count": null,
   "metadata": {},
   "outputs": [
    {
     "name": "stdout",
     "output_type": "stream",
     "text": [
      "212.31034019832188\n"
     ]
    }
   ],
   "source": [
    "sum_p_total = sum(p_total)\n",
    "print(sum_p_total)"
   ]
  },
  {
   "cell_type": "markdown",
   "metadata": {},
   "source": [
    "# Menghitung perubahan matriks partisi U"
   ]
  },
  {
   "cell_type": "markdown",
   "metadata": {},
   "source": [
    "### $\\mu_{ik} = \\frac{[\\sum_{j=1}^m(X_{ij}-V_{kj})^2]^{\\frac{-1}{w-1}}}{\\sum_{k=1}^c[\\sum_{j=1}^m(X_{ij}-V_{kj})^2]^{\\frac{-1}{w-1}}}$"
   ]
  },
  {
   "cell_type": "code",
   "execution_count": null,
   "metadata": {},
   "outputs": [
    {
     "name": "stdout",
     "output_type": "stream",
     "text": [
      "5 4.070175438596491  =  0.8645737149892287\n",
      "4 4.070175438596491  =  0.004924592182209817\n",
      "17 4.070175438596491  =  167.18036318867348\n",
      "3 4.070175438596491  =  1.145275469375191\n",
      "2 4.070175438596491  =  4.285626346568172\n",
      "3 4.070175438596491  =  1.145275469375191\n",
      "6 4.070175438596491  =  3.7242228377962476\n",
      "1 4.070175438596491  =  9.425977223761153\n",
      "8 4.070175438596491  =  15.443521083410285\n",
      "9 4.070175438596491  =  24.303170206217303\n",
      "\n",
      "12 8.301754385964912  =  13.677020621729763\n",
      "10 8.301754385964912  =  2.884038165589412\n",
      "9 8.301754385964912  =  0.4875469375192366\n",
      "7 8.301754385964912  =  1.694564481378886\n",
      "15 8.301754385964912  =  44.866494305940286\n",
      "13 8.301754385964912  =  22.07351184979994\n",
      "11 8.301754385964912  =  7.280529393659587\n",
      "2 8.301754385964912  =  39.71210834102801\n",
      "11 8.301754385964912  =  7.280529393659587\n",
      "20 8.301754385964912  =  136.84895044629116\n",
      "\n",
      "\n",
      "5 6.608695652173913  =  2.5879017013232515\n",
      "4 6.608695652173913  =  6.805293005671078\n",
      "17 6.608695652173913  =  107.97920604914933\n",
      "3 6.608695652173913  =  13.022684310018905\n",
      "2 6.608695652173913  =  21.24007561436673\n",
      "3 6.608695652173913  =  13.022684310018905\n",
      "6 6.608695652173913  =  0.37051039697542537\n",
      "1 6.608695652173913  =  31.457466918714555\n",
      "8 6.608695652173913  =  1.935727788279773\n",
      "9 6.608695652173913  =  5.718336483931947\n",
      "\n",
      "12 12.4231884057971  =  0.17908842680109138\n",
      "10 12.4231884057971  =  5.871842049989493\n",
      "9 12.4231884057971  =  11.718218861583694\n",
      "7 12.4231884057971  =  29.410972484772095\n",
      "15 12.4231884057971  =  6.639957992018489\n",
      "13 12.4231884057971  =  0.3327116152068904\n",
      "11 12.4231884057971  =  2.0254652383952925\n",
      "2 12.4231884057971  =  108.6428565427431\n",
      "11 12.4231884057971  =  2.0254652383952925\n",
      "20 12.4231884057971  =  57.408073934047486\n",
      "\n",
      "\n"
     ]
    }
   ],
   "source": [
    "list_xijvkj2 = [[] for i in range(jumlah_cluster ** pangkat_pembobotan)]\n",
    "index_xij = 0\n",
    "for index_cluster, cluster in enumerate(pusat_cluster):\n",
    "    for index_fuzzy, fuzzy in enumerate(data_fuzzy.columns):\n",
    "        for index_data, data in enumerate(data_fuzzy[fuzzy]):\n",
    "            hitung = (data - cluster[index_fuzzy]) ** 2\n",
    "            print(data, cluster[index_fuzzy], \" = \", hitung)\n",
    "            list_xijvkj2[index_xij].append(hitung)\n",
    "        print()\n",
    "        index_xij += 1\n",
    "    print()"
   ]
  },
  {
   "cell_type": "code",
   "execution_count": null,
   "metadata": {},
   "outputs": [
    {
     "name": "stdout",
     "output_type": "stream",
     "text": [
      "[0.8645737149892287, 0.004924592182209817, 167.18036318867348, 1.145275469375191, 4.285626346568172, 1.145275469375191, 3.7242228377962476, 9.425977223761153, 15.443521083410285, 24.303170206217303]\n",
      "[13.677020621729763, 2.884038165589412, 0.4875469375192366, 1.694564481378886, 44.866494305940286, 22.07351184979994, 7.280529393659587, 39.71210834102801, 7.280529393659587, 136.84895044629116]\n",
      "[2.5879017013232515, 6.805293005671078, 107.97920604914933, 13.022684310018905, 21.24007561436673, 13.022684310018905, 0.37051039697542537, 31.457466918714555, 1.935727788279773, 5.718336483931947]\n",
      "[0.17908842680109138, 5.871842049989493, 11.718218861583694, 29.410972484772095, 6.639957992018489, 0.3327116152068904, 2.0254652383952925, 108.6428565427431, 2.0254652383952925, 57.408073934047486]\n"
     ]
    }
   ],
   "source": [
    "for xij in list_xijvkj2:\n",
    "    print(xij)"
   ]
  },
  {
   "cell_type": "code",
   "execution_count": null,
   "metadata": {},
   "outputs": [
    {
     "name": "stdout",
     "output_type": "stream",
     "text": [
      "17.308584464843335\n",
      "15.566097813432194\n",
      "287.3653350369257\n",
      "45.273496745545074\n",
      "77.03215425889368\n",
      "36.57418324440092\n",
      "13.400727866826553\n",
      "189.2384090262468\n",
      "26.68524350374494\n",
      "224.2785310704879\n"
     ]
    }
   ],
   "source": [
    "index_lt = 0\n",
    "total_lt = []\n",
    "for index_data, data in enumerate(list_xijvkj2[0]):\n",
    "    total_angka = 0\n",
    "    for index_list, list_total in enumerate(list_xijvkj2):\n",
    "        total_angka += list_xijvkj2[index_list][index_data]\n",
    "        \n",
    "    total_lt.append(total_angka)\n",
    "\n",
    "for data in total_lt:\n",
    "    print(data)"
   ]
  },
  {
   "cell_type": "code",
   "execution_count": null,
   "metadata": {},
   "outputs": [
    {
     "name": "stdout",
     "output_type": "stream",
     "text": [
      "[0.8401376996631603, 0.18559325480267105, 0.583466026285487, 0.06272632234958785, 0.6380727778599499, 0.6348408975812099, 0.8212055599381325, 0.25966232657332183, 0.8515586703895296, 0.7185356524466464]\n",
      "[0.15986230033683968, 0.8144067451973289, 0.4165339737145129, 0.9372736776504121, 0.3619272221400501, 0.3651591024187901, 0.1787944400618675, 0.7403376734266782, 0.14844132961047035, 0.28146434755335364]\n"
     ]
    }
   ],
   "source": [
    "ui1 = [[] for i in range(jumlah_cluster)]\n",
    "\n",
    "for i in range(jumlah_cluster):\n",
    "    for index_data, data in enumerate(total_lt):\n",
    "        angka1 = list_xijvkj2[2 * i][index_data]\n",
    "        angka2 = list_xijvkj2[2 * i + 1][index_data]\n",
    "        total_angka = angka1 + angka2\n",
    "        hasil = total_angka / data\n",
    "        ui1[i].append(hasil)\n",
    "\n",
    "for data in ui1:\n",
    "    print(data)"
   ]
  }
 ],
 "metadata": {
  "kernelspec": {
   "display_name": "analytics",
   "language": "python",
   "name": "python3"
  },
  "language_info": {
   "codemirror_mode": {
    "name": "ipython",
    "version": 3
   },
   "file_extension": ".py",
   "mimetype": "text/x-python",
   "name": "python",
   "nbconvert_exporter": "python",
   "pygments_lexer": "ipython3",
   "version": "3.11.8"
  }
 },
 "nbformat": 4,
 "nbformat_minor": 2
}
