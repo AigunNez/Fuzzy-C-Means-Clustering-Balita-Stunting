{
 "cells": [
  {
   "cell_type": "code",
   "execution_count": 1,
   "metadata": {},
   "outputs": [],
   "source": [
    "import pandas as pd\n",
    "import random"
   ]
  },
  {
   "cell_type": "code",
   "execution_count": 2,
   "metadata": {},
   "outputs": [],
   "source": [
    "jumlah_cluster = 2\n",
    "pangkat_pembobotan = 2\n",
    "maksimum_iterasi = 10\n",
    "toleransi_error = 0.01\n",
    "fungsi_objektif = 0\n",
    "iterasi_awal = 0\n",
    "\n",
    "data_fuzzy = pd.read_csv('data_umur.csv')\n",
    "data_fuzzy = data_fuzzy.drop(['Kelurahan', 'Total'], axis=1)\n",
    "bil_random = pd.read_csv('bilangan_random.csv')\n",
    "\n",
    "# data_fuzzy = pd.read_csv('data_kesehatan.csv')\n",
    "# data_fuzzy = data_fuzzy.drop(['Kota / Kabupaten'], axis=1)\n",
    "# bil_random = pd.read_csv('bilangan_random2.csv')"
   ]
  },
  {
   "cell_type": "code",
   "execution_count": 3,
   "metadata": {},
   "outputs": [],
   "source": [
    "def find_uik(bil_random):\n",
    "    uik2 = []\n",
    "    for index_list, list_data in bil_random.iterrows():\n",
    "        uikw2 = []\n",
    "        for index_data, data in enumerate(list_data):\n",
    "            hitung = round(data ** pangkat_pembobotan, 2)\n",
    "            uikw2.append(hitung)\n",
    "        uik2.append(uikw2)\n",
    "\n",
    "    return uik2"
   ]
  },
  {
   "cell_type": "code",
   "execution_count": 27,
   "metadata": {},
   "outputs": [],
   "source": [
    "def total_uikw(uik2):\n",
    "    total_uiw = []\n",
    "    # print(data_fuzzy.columns)\n",
    "\n",
    "    for kolom in range(len(data_fuzzy.columns)):\n",
    "        total = 0\n",
    "        for data in uik2:\n",
    "            total += data[kolom]\n",
    "        #     print(data, kolom, total)\n",
    "        # print()\n",
    "            \n",
    "        total_uiw.append(round(total,2))\n",
    "\n",
    "    return total_uiw"
   ]
  },
  {
   "cell_type": "code",
   "execution_count": 5,
   "metadata": {},
   "outputs": [],
   "source": [
    "def nama_uikw(bil_random):\n",
    "    nama_uikw = []\n",
    "    for i in range(len(bil_random.columns)):\n",
    "        nama_uikw.append(f'ui{i+1}w2')\n",
    "        \n",
    "    return nama_uikw"
   ]
  },
  {
   "cell_type": "code",
   "execution_count": 6,
   "metadata": {},
   "outputs": [],
   "source": [
    "def nama_uikxij(nama_uikw):\n",
    "    nama_uikxij = []\n",
    "    for i in range(len(nama_uikw)):\n",
    "        for j in range(len(nama_uikw)):\n",
    "            nama = f\"ui{i+1}wxi{j+1}\"\n",
    "            nama_uikxij.append(nama)\n",
    "\n",
    "    return nama_uikxij"
   ]
  },
  {
   "cell_type": "code",
   "execution_count": 7,
   "metadata": {},
   "outputs": [],
   "source": [
    "def total_uikxij(uik2):\n",
    "    uikxij = []\n",
    "\n",
    "    for index_list, list_data in data_fuzzy.iterrows():\n",
    "        uikw2xij : list = []\n",
    "        for index_data, data in enumerate(uik2[index_list]):\n",
    "            uikw2xij_list : list = []\n",
    "            for index_data2, data2 in enumerate(list_data):\n",
    "                hitung = round(data * data2, 2)\n",
    "                uikw2xij_list.append(hitung)\n",
    "\n",
    "            uikw2xij.extend(uikw2xij_list)\n",
    "        uikxij.append(uikw2xij)\n",
    "\n",
    "    return uikxij"
   ]
  },
  {
   "cell_type": "code",
   "execution_count": 8,
   "metadata": {},
   "outputs": [],
   "source": [
    "def total_uiwxi(df_pusat_cluster, name_uikxij):\n",
    "    total_uiwxi = []\n",
    "    for nama in name_uikxij:\n",
    "        total = round(df_pusat_cluster[nama].sum(), 2)\n",
    "        total_uiwxi.append(total)\n",
    "\n",
    "    return total_uiwxi"
   ]
  },
  {
   "cell_type": "code",
   "execution_count": 9,
   "metadata": {},
   "outputs": [],
   "source": [
    "def find_clusterv(total_uiwxi, total_uiw):\n",
    "    index_uiw = 0\n",
    "    pusat_cluster = [[] for i in range(jumlah_cluster)]\n",
    "    for index_uiwxi , data in enumerate(total_uiwxi):\n",
    "        hitung = data / total_uiw[index_uiw]\n",
    "        pusat_cluster[index_uiw].append(hitung)\n",
    "\n",
    "        if (index_uiwxi + 1) % jumlah_cluster == 0:\n",
    "            index_uiw += 1\n",
    "\n",
    "    return pusat_cluster"
   ]
  },
  {
   "cell_type": "code",
   "execution_count": 10,
   "metadata": {},
   "outputs": [],
   "source": [
    "def find_objektive(pusat_cluster):\n",
    "    list_objektif = [[] for i in range(jumlah_cluster)]\n",
    "\n",
    "    for index_data, data in enumerate(data_fuzzy.values):\n",
    "        for index_cluster, cluster in enumerate(pusat_cluster):\n",
    "            no_cluster = []\n",
    "            for index_fuzzy, fuzzy in enumerate(data):\n",
    "                hitung = (fuzzy - cluster[index_fuzzy]) ** 2\n",
    "\n",
    "                no_cluster.append(hitung)\n",
    "            list_objektif[index_cluster].append(no_cluster)\n",
    "\n",
    "    return list_objektif"
   ]
  },
  {
   "cell_type": "code",
   "execution_count": 11,
   "metadata": {},
   "outputs": [],
   "source": [
    "def create_df_center_cluster(uik2, uikxij, nama_uik2, nama_uikxij, bil_random):\n",
    "    df_pusat_cluster = data_fuzzy.copy()\n",
    "    df_pusat_cluster = df_pusat_cluster.merge(bil_random, left_index=True, right_index=True)\n",
    "    df_pusat_cluster = df_pusat_cluster.merge(pd.DataFrame(uik2, columns=nama_uik2), left_index=True, right_index=True)\n",
    "    df_pusat_cluster = df_pusat_cluster.merge(pd.DataFrame(uikxij, columns=nama_uikxij), left_index=True, right_index=True)\n",
    "\n",
    "    return df_pusat_cluster"
   ]
  },
  {
   "cell_type": "code",
   "execution_count": 12,
   "metadata": {},
   "outputs": [],
   "source": [
    "def create_df_cluster(list_objektif):\n",
    "    df_cluster = []\n",
    "    nama_kolom_cluster = [f\"xi{i+1}_vi{i+1}\" for i in range(jumlah_cluster)]\n",
    "    nama_kolom_cluster.append('total')\n",
    "\n",
    "    for index_objektif, objektif in enumerate(list_objektif):\n",
    "        df_nilai = pd.DataFrame(columns=nama_kolom_cluster)\n",
    "        for index_nilai, nilai in enumerate(objektif):\n",
    "            total = sum(nilai)\n",
    "            nilai.append(total)\n",
    "            df_nilai.loc[index_nilai] = nilai\n",
    "        df_cluster.append(df_nilai)\n",
    "\n",
    "    return df_cluster"
   ]
  },
  {
   "cell_type": "code",
   "execution_count": 13,
   "metadata": {},
   "outputs": [],
   "source": [
    "def count_function_objektive(df_cluster, uik2):\n",
    "    p_cluster = []\n",
    "\n",
    "    for index_cluster, cluster in enumerate(df_cluster):\n",
    "        hitung_cluster = []\n",
    "        for index_data, data in enumerate(cluster['total']):\n",
    "            hitung = data * uik2[index_data][index_cluster]\n",
    "            hitung_cluster.append(hitung)\n",
    "\n",
    "        p_cluster.append(hitung_cluster)\n",
    "\n",
    "    return p_cluster"
   ]
  },
  {
   "cell_type": "code",
   "execution_count": 14,
   "metadata": {},
   "outputs": [],
   "source": [
    "def total_function_objektive(p_cluster):\n",
    "    p_total = []\n",
    "\n",
    "    for i in range(len(p_cluster[0])):\n",
    "        total = 0\n",
    "        for j in range(jumlah_cluster):\n",
    "            total += p_cluster[j][i]\n",
    "\n",
    "        p_total.append(total)\n",
    "\n",
    "    return p_total"
   ]
  },
  {
   "cell_type": "code",
   "execution_count": 15,
   "metadata": {},
   "outputs": [],
   "source": [
    "def sum_total_function_objektive(p_total):\n",
    "    return sum(p_total)"
   ]
  },
  {
   "cell_type": "code",
   "execution_count": 16,
   "metadata": {},
   "outputs": [],
   "source": [
    "def count_matriks(pusat_cluster):\n",
    "    list_xijvkj2 = [[] for i in range(jumlah_cluster ** pangkat_pembobotan)]\n",
    "    index_xij = 0\n",
    "    for index_cluster, cluster in enumerate(pusat_cluster):\n",
    "        for index_fuzzy, fuzzy in enumerate(data_fuzzy.columns):\n",
    "            for index_data, data in enumerate(data_fuzzy[fuzzy]):\n",
    "                hitung = (data - cluster[index_fuzzy]) ** 2\n",
    "                # print(data, cluster[index_fuzzy], \" = \", hitung)\n",
    "                list_xijvkj2[index_xij].append(hitung)\n",
    "            # print()\n",
    "            index_xij += 1\n",
    "\n",
    "    return list_xijvkj2"
   ]
  },
  {
   "cell_type": "code",
   "execution_count": 17,
   "metadata": {},
   "outputs": [],
   "source": [
    "def total_matriks(list_xijvkj2):\n",
    "    index_lt = 0\n",
    "    total_lt = []\n",
    "    for index_data, data in enumerate(list_xijvkj2[0]):\n",
    "        total_angka = 0\n",
    "        for index_list, list_total in enumerate(list_xijvkj2):\n",
    "            total_angka += list_xijvkj2[index_list][index_data]\n",
    "            \n",
    "        total_lt.append(total_angka)\n",
    "\n",
    "    return total_lt"
   ]
  },
  {
   "cell_type": "code",
   "execution_count": 18,
   "metadata": {},
   "outputs": [],
   "source": [
    "def find_ui(total_lt, list_xijvkj2):\n",
    "    ui = [[] for i in range(jumlah_cluster)]\n",
    "\n",
    "    for i in range(jumlah_cluster):\n",
    "        for index_data, data in enumerate(total_lt):\n",
    "            angka1 = list_xijvkj2[2 * i][index_data]\n",
    "            angka2 = list_xijvkj2[2 * i + 1][index_data]\n",
    "            total_angka = angka1 + angka2\n",
    "            hasil = round(total_angka / data, 2)\n",
    "            ui[i].append(hasil)\n",
    "\n",
    "    return ui"
   ]
  },
  {
   "cell_type": "code",
   "execution_count": 19,
   "metadata": {},
   "outputs": [],
   "source": [
    "def check_optimal(hitung, toleransi_error):\n",
    "    if hitung < toleransi_error:\n",
    "        return True\n",
    "    return False"
   ]
  },
  {
   "cell_type": "code",
   "execution_count": 31,
   "metadata": {},
   "outputs": [
    {
     "name": "stdout",
     "output_type": "stream",
     "text": [
      "|212.31034019832188-0|=212.31034019832188\n",
      "|191.9448033600611-212.31034019832188|=20.365536838260795\n",
      "|190.59097739738527-191.9448033600611|=1.3538259626758133\n",
      "|189.7158729438028-190.59097739738527|=0.8751044535824803\n",
      "|189.18060681068107-189.7158729438028|=0.5352661331217234\n",
      "|190.84759406733627-189.18060681068107|=1.6669872566552044\n",
      "|190.1860802540791-190.84759406733627|=0.6615138132571872\n",
      "|188.34677327102804-190.1860802540791|=1.8393069830510456\n",
      "|189.42429562644168-188.34677327102804|=1.0775223554136346\n",
      "|189.668927708196-189.42429562644168|=0.24463208175433238\n",
      "|187.6766308780691-189.668927708196|=1.992296830126918\n",
      "|188.00799009324547-187.6766308780691|=0.3313592151763771\n",
      "|188.61616542793308-188.00799009324547|=0.6081753346876155\n",
      "|188.65930701754382-188.61616542793308|=0.043141589610740994\n",
      "|188.65930701754382-188.65930701754382|=0.0\n",
      "selesai di iterasi 13\n"
     ]
    }
   ],
   "source": [
    "\n",
    "def main():\n",
    "    jumlah_cluster = 2\n",
    "    pangkat_pembobotan = 2\n",
    "    maksimum_iterasi = 30\n",
    "    toleransi_error = 0.01\n",
    "    fungsi_objektif = 0\n",
    "    iterasi_awal = 0\n",
    "\n",
    "    data_fuzzy = pd.read_csv('data_umur.csv')\n",
    "    data_fuzzy = data_fuzzy.drop(['Kelurahan', 'Total'], axis=1)\n",
    "    bil_random = pd.read_csv('bilangan_random.csv')\n",
    "\n",
    "    # print(len(data_fuzzy.columns))\n",
    "\n",
    "    for i in range(maksimum_iterasi):\n",
    "        uik2 = find_uik(bil_random)\n",
    "        uiw = total_uikw(uik2)\n",
    "        name_uikw = nama_uikw(bil_random)\n",
    "        name_uikxij = nama_uikxij(name_uikw)\n",
    "        uikxij = total_uikxij(uik2)\n",
    "\n",
    "        df_center_cluster = create_df_center_cluster(uik2, uikxij, name_uikw, name_uikxij, bil_random)\n",
    "        uiwxi = total_uiwxi(df_center_cluster, name_uikxij)\n",
    "        clusterV = find_clusterv(uiwxi, uiw)\n",
    "        objektif = find_objektive(clusterV)\n",
    "        df_cluster = create_df_cluster(objektif)\n",
    "        hasil_objektif = count_function_objektive(df_cluster, uik2)\n",
    "        p_total = total_function_objektive(hasil_objektif)\n",
    "        sum_p = sum_total_function_objektive(p_total)\n",
    "        list_xijvkj2 = count_matriks(clusterV)\n",
    "        total_lt = total_matriks(list_xijvkj2)\n",
    "        ui = find_ui(total_lt, list_xijvkj2)\n",
    "\n",
    "        hitung = abs(sum_p - fungsi_objektif)\n",
    "        print(f\"|{sum_p}-{fungsi_objektif}|={hitung}\")\n",
    "\n",
    "        iterasi_awal = i- 1\n",
    "        if not check_optimal(hitung, toleransi_error):\n",
    "            bil_random = pd.DataFrame(ui).T\n",
    "            \n",
    "            fungsi_objektif = sum_p\n",
    "            # print(bil_random)\n",
    "        else :\n",
    "            break\n",
    "    print('selesai di iterasi', iterasi_awal)\n",
    "    \n",
    "main()"
   ]
  }
 ],
 "metadata": {
  "kernelspec": {
   "display_name": "analytics",
   "language": "python",
   "name": "python3"
  },
  "language_info": {
   "codemirror_mode": {
    "name": "ipython",
    "version": 3
   },
   "file_extension": ".py",
   "mimetype": "text/x-python",
   "name": "python",
   "nbconvert_exporter": "python",
   "pygments_lexer": "ipython3",
   "version": "3.11.8"
  }
 },
 "nbformat": 4,
 "nbformat_minor": 2
}
