{
 "cells": [
  {
   "cell_type": "code",
   "execution_count": 71,
   "metadata": {},
   "outputs": [],
   "source": [
    "import pandas as pd\n",
    "import random"
   ]
  },
  {
   "cell_type": "code",
   "execution_count": 72,
   "metadata": {},
   "outputs": [],
   "source": [
    "jumlah_cluster = 3\n",
    "pangkat_pembobotan = 2\n",
    "maksimum_iterasi = 10\n",
    "toleransi_error = 0.01\n",
    "fungsi_objektif = 0\n",
    "iterasi_awal = 0"
   ]
  },
  {
   "cell_type": "markdown",
   "metadata": {},
   "source": [
    "# Import Data Fuzzy"
   ]
  },
  {
   "cell_type": "code",
   "execution_count": 73,
   "metadata": {},
   "outputs": [
    {
     "data": {
      "text/html": [
       "<div>\n",
       "<style scoped>\n",
       "    .dataframe tbody tr th:only-of-type {\n",
       "        vertical-align: middle;\n",
       "    }\n",
       "\n",
       "    .dataframe tbody tr th {\n",
       "        vertical-align: top;\n",
       "    }\n",
       "\n",
       "    .dataframe thead th {\n",
       "        text-align: right;\n",
       "    }\n",
       "</style>\n",
       "<table border=\"1\" class=\"dataframe\">\n",
       "  <thead>\n",
       "    <tr style=\"text-align: right;\">\n",
       "      <th></th>\n",
       "      <th>Kota / Kabupaten</th>\n",
       "      <th>Imunisasi</th>\n",
       "      <th>Alat KB</th>\n",
       "      <th>Harapan Hidup</th>\n",
       "    </tr>\n",
       "  </thead>\n",
       "  <tbody>\n",
       "    <tr>\n",
       "      <th>0</th>\n",
       "      <td>Pacitan</td>\n",
       "      <td>71.96</td>\n",
       "      <td>62.11</td>\n",
       "      <td>72.86</td>\n",
       "    </tr>\n",
       "    <tr>\n",
       "      <th>1</th>\n",
       "      <td>Ponorogo</td>\n",
       "      <td>70.82</td>\n",
       "      <td>58.13</td>\n",
       "      <td>73.55</td>\n",
       "    </tr>\n",
       "    <tr>\n",
       "      <th>2</th>\n",
       "      <td>Trenggalek</td>\n",
       "      <td>74.80</td>\n",
       "      <td>63.88</td>\n",
       "      <td>74.64</td>\n",
       "    </tr>\n",
       "    <tr>\n",
       "      <th>3</th>\n",
       "      <td>Tulungagung</td>\n",
       "      <td>81.09</td>\n",
       "      <td>59.02</td>\n",
       "      <td>74.91</td>\n",
       "    </tr>\n",
       "    <tr>\n",
       "      <th>4</th>\n",
       "      <td>Blitar</td>\n",
       "      <td>77.55</td>\n",
       "      <td>61.15</td>\n",
       "      <td>74.34</td>\n",
       "    </tr>\n",
       "  </tbody>\n",
       "</table>\n",
       "</div>"
      ],
      "text/plain": [
       "  Kota / Kabupaten  Imunisasi  Alat KB  Harapan Hidup\n",
       "0          Pacitan      71.96    62.11          72.86\n",
       "1         Ponorogo      70.82    58.13          73.55\n",
       "2       Trenggalek      74.80    63.88          74.64\n",
       "3      Tulungagung      81.09    59.02          74.91\n",
       "4           Blitar      77.55    61.15          74.34"
      ]
     },
     "execution_count": 73,
     "metadata": {},
     "output_type": "execute_result"
    }
   ],
   "source": [
    "data_fuzzy = pd.read_csv('data_kesehatan.csv')[:10]\n",
    "data_fuzzy.head()"
   ]
  },
  {
   "cell_type": "code",
   "execution_count": 74,
   "metadata": {},
   "outputs": [
    {
     "data": {
      "text/plain": [
       "10"
      ]
     },
     "execution_count": 74,
     "metadata": {},
     "output_type": "execute_result"
    }
   ],
   "source": [
    "len(data_fuzzy)"
   ]
  },
  {
   "cell_type": "code",
   "execution_count": 75,
   "metadata": {},
   "outputs": [
    {
     "data": {
      "text/html": [
       "<div>\n",
       "<style scoped>\n",
       "    .dataframe tbody tr th:only-of-type {\n",
       "        vertical-align: middle;\n",
       "    }\n",
       "\n",
       "    .dataframe tbody tr th {\n",
       "        vertical-align: top;\n",
       "    }\n",
       "\n",
       "    .dataframe thead th {\n",
       "        text-align: right;\n",
       "    }\n",
       "</style>\n",
       "<table border=\"1\" class=\"dataframe\">\n",
       "  <thead>\n",
       "    <tr style=\"text-align: right;\">\n",
       "      <th></th>\n",
       "      <th>Imunisasi</th>\n",
       "      <th>Alat KB</th>\n",
       "      <th>Harapan Hidup</th>\n",
       "    </tr>\n",
       "  </thead>\n",
       "  <tbody>\n",
       "    <tr>\n",
       "      <th>0</th>\n",
       "      <td>71.96</td>\n",
       "      <td>62.11</td>\n",
       "      <td>72.86</td>\n",
       "    </tr>\n",
       "    <tr>\n",
       "      <th>1</th>\n",
       "      <td>70.82</td>\n",
       "      <td>58.13</td>\n",
       "      <td>73.55</td>\n",
       "    </tr>\n",
       "    <tr>\n",
       "      <th>2</th>\n",
       "      <td>74.80</td>\n",
       "      <td>63.88</td>\n",
       "      <td>74.64</td>\n",
       "    </tr>\n",
       "    <tr>\n",
       "      <th>3</th>\n",
       "      <td>81.09</td>\n",
       "      <td>59.02</td>\n",
       "      <td>74.91</td>\n",
       "    </tr>\n",
       "    <tr>\n",
       "      <th>4</th>\n",
       "      <td>77.55</td>\n",
       "      <td>61.15</td>\n",
       "      <td>74.34</td>\n",
       "    </tr>\n",
       "    <tr>\n",
       "      <th>5</th>\n",
       "      <td>63.94</td>\n",
       "      <td>56.70</td>\n",
       "      <td>73.27</td>\n",
       "    </tr>\n",
       "    <tr>\n",
       "      <th>6</th>\n",
       "      <td>59.48</td>\n",
       "      <td>66.18</td>\n",
       "      <td>73.26</td>\n",
       "    </tr>\n",
       "    <tr>\n",
       "      <th>7</th>\n",
       "      <td>56.28</td>\n",
       "      <td>69.76</td>\n",
       "      <td>70.96</td>\n",
       "    </tr>\n",
       "    <tr>\n",
       "      <th>8</th>\n",
       "      <td>63.93</td>\n",
       "      <td>70.69</td>\n",
       "      <td>70.03</td>\n",
       "    </tr>\n",
       "    <tr>\n",
       "      <th>9</th>\n",
       "      <td>57.68</td>\n",
       "      <td>64.84</td>\n",
       "      <td>71.38</td>\n",
       "    </tr>\n",
       "  </tbody>\n",
       "</table>\n",
       "</div>"
      ],
      "text/plain": [
       "   Imunisasi  Alat KB  Harapan Hidup\n",
       "0      71.96    62.11          72.86\n",
       "1      70.82    58.13          73.55\n",
       "2      74.80    63.88          74.64\n",
       "3      81.09    59.02          74.91\n",
       "4      77.55    61.15          74.34\n",
       "5      63.94    56.70          73.27\n",
       "6      59.48    66.18          73.26\n",
       "7      56.28    69.76          70.96\n",
       "8      63.93    70.69          70.03\n",
       "9      57.68    64.84          71.38"
      ]
     },
     "execution_count": 75,
     "metadata": {},
     "output_type": "execute_result"
    }
   ],
   "source": [
    "data_fuzzy = data_fuzzy.drop(['Kota / Kabupaten'], axis=1)\n",
    "data_fuzzy.head(10)"
   ]
  },
  {
   "cell_type": "markdown",
   "metadata": {},
   "source": [
    "# Menentukan Bilangan Random"
   ]
  },
  {
   "cell_type": "code",
   "execution_count": 76,
   "metadata": {},
   "outputs": [
    {
     "name": "stdout",
     "output_type": "stream",
     "text": [
      "0.4,0.34,0.26\n",
      "0.38,0.24,0.37\n",
      "0.22,0.38,0.4\n",
      "0.07,0.85,0.08\n",
      "0.09,0.84,0.06\n",
      "0.53,0.03,0.44\n",
      "0.47,0.38,0.15\n",
      "0.43,0.17,0.4\n",
      "0.54,0.04,0.42\n",
      "0.35,0.33,0.32\n",
      "0.46,0.12,0.42\n",
      "0.48,0.33,0.18\n",
      "0.31,0.25,0.45\n",
      "0.38,0.32,0.3\n",
      "0.06,0.18,0.76\n",
      "0.63,0.07,0.31\n",
      "0.35,0.05,0.6\n",
      "0.49,0.22,0.29\n",
      "0.46,0.19,0.35\n",
      "0.16,0.74,0.1\n",
      "0.42,0.24,0.34\n",
      "0.53,0.15,0.32\n",
      "0.0,0.97,0.03\n",
      "0.51,0.26,0.22\n",
      "0.51,0.2,0.29\n",
      "0.26,0.16,0.58\n",
      "0.43,0.09,0.48\n",
      "0.14,0.44,0.42\n",
      "0.37,0.37,0.26\n",
      "0.34,0.2,0.46\n",
      "0.44,0.24,0.32\n",
      "0.46,0.14,0.4\n"
     ]
    }
   ],
   "source": [
    "import random\n",
    "\n",
    "def generate_random_data():\n",
    "    a = random.random()\n",
    "    b = random.random()\n",
    "    c = random.random()\n",
    "    \n",
    "    total = a + b + c\n",
    "    a /= total\n",
    "    b /= total\n",
    "    c /= total\n",
    "    \n",
    "    return a, b, c\n",
    "\n",
    "for i in range(39):\n",
    "    a, b, c = generate_random_data()\n",
    "    if sum([a,b,c]) == 1:\n",
    "        print(f\"{round(a,2)},{round(b,2)},{round(c,2)}\")\n"
   ]
  },
  {
   "cell_type": "markdown",
   "metadata": {},
   "source": [
    "# Import Bilangan Random"
   ]
  },
  {
   "cell_type": "code",
   "execution_count": 77,
   "metadata": {},
   "outputs": [],
   "source": [
    "bil_random = pd.read_csv('bilangan_random2.csv')[:10]"
   ]
  },
  {
   "cell_type": "markdown",
   "metadata": {},
   "source": [
    "# Mencari $uik^2$"
   ]
  },
  {
   "cell_type": "code",
   "execution_count": 78,
   "metadata": {},
   "outputs": [
    {
     "name": "stdout",
     "output_type": "stream",
     "text": [
      "[0.08, 0.24, 0.05]\n",
      "[0.38, 0.02, 0.06]\n",
      "[0.08, 0.06, 0.22]\n",
      "[0.04, 0.18, 0.14]\n",
      "[0.21, 0.0, 0.24]\n",
      "[0.31, 0.17, 0.0]\n",
      "[0.17, 0.07, 0.1]\n",
      "[0.04, 0.28, 0.08]\n",
      "[0.27, 0.01, 0.16]\n",
      "[0.06, 0.01, 0.41]\n"
     ]
    }
   ],
   "source": [
    "uik2 = []\n",
    "for index_list, list_data in bil_random.iterrows():\n",
    "    uikw2 = []\n",
    "    for index_data, data in enumerate(list_data):\n",
    "        # print(data, end=' ')\n",
    "        \n",
    "        hitung = round(data ** pangkat_pembobotan, 2)\n",
    "        uikw2.append(hitung)\n",
    "    uik2.append(uikw2)\n",
    "\n",
    "for data in uik2:\n",
    "    print(data)"
   ]
  },
  {
   "cell_type": "markdown",
   "metadata": {},
   "source": [
    "# Mencari Total $uik^2$"
   ]
  },
  {
   "cell_type": "code",
   "execution_count": 79,
   "metadata": {},
   "outputs": [
    {
     "name": "stdout",
     "output_type": "stream",
     "text": [
      "[1.64, 1.04, 1.46]\n"
     ]
    }
   ],
   "source": [
    "total_uiw = []\n",
    "\n",
    "for kolom in range(len(data_fuzzy.columns)):\n",
    "    total = 0\n",
    "    for data in uik2:\n",
    "        total += data[kolom]\n",
    "        \n",
    "    total_uiw.append(round(total,2))\n",
    "\n",
    "print(total_uiw)"
   ]
  },
  {
   "cell_type": "code",
   "execution_count": 80,
   "metadata": {},
   "outputs": [
    {
     "name": "stdout",
     "output_type": "stream",
     "text": [
      "[5.76, 4.97, 5.83, 17.27, 14.91, 17.49, 3.6, 3.11, 3.64]\n",
      "\n",
      "[26.91, 22.09, 27.95, 1.42, 1.16, 1.47, 4.25, 3.49, 4.41]\n",
      "\n",
      "[5.98, 5.11, 5.97, 4.49, 3.83, 4.48, 16.46, 14.05, 16.42]\n",
      "\n",
      "[3.24, 2.36, 3.0, 14.6, 10.62, 13.48, 11.35, 8.26, 10.49]\n",
      "\n",
      "[16.29, 12.84, 15.61, 0.0, 0.0, 0.0, 18.61, 14.68, 17.84]\n",
      "\n",
      "[19.82, 17.58, 22.71, 10.87, 9.64, 12.46, 0.0, 0.0, 0.0]\n",
      "\n",
      "[10.11, 11.25, 12.45, 4.16, 4.63, 5.13, 5.95, 6.62, 7.33]\n",
      "\n",
      "[2.25, 2.79, 2.84, 15.76, 19.53, 19.87, 4.5, 5.58, 5.68]\n",
      "\n",
      "[17.26, 19.09, 18.91, 0.64, 0.71, 0.7, 10.23, 11.31, 11.2]\n",
      "\n",
      "[3.46, 3.89, 4.28, 0.58, 0.65, 0.71, 23.65, 26.58, 29.27]\n",
      "\n"
     ]
    }
   ],
   "source": [
    "uikxij = []\n",
    "\n",
    "for index_list, list_data in data_fuzzy.iterrows():\n",
    "    uikw2xij : list = []\n",
    "    for index_data, data in enumerate(uik2[index_list]):\n",
    "        uikw2xij_list : list = []\n",
    "        for index_data2, data2 in enumerate(list_data):\n",
    "            # print(data, data2, end=',')\n",
    "            hitung = round(data * data2, 2)\n",
    "            uikw2xij_list.append(hitung)\n",
    "\n",
    "        uikw2xij.extend(uikw2xij_list)\n",
    "    uikxij.append(uikw2xij)\n",
    "\n",
    "for data in uikxij:\n",
    "    print(data)\n",
    "    print()"
   ]
  },
  {
   "cell_type": "markdown",
   "metadata": {},
   "source": [
    "# Membuat dataframe pusat $cluster V$"
   ]
  },
  {
   "cell_type": "markdown",
   "metadata": {},
   "source": [
    "### Menentukan nama $uik^2$"
   ]
  },
  {
   "cell_type": "code",
   "execution_count": 81,
   "metadata": {},
   "outputs": [
    {
     "name": "stdout",
     "output_type": "stream",
     "text": [
      "['ui1w2', 'ui2w2', 'ui3w2']\n"
     ]
    }
   ],
   "source": [
    "nama_uik2 = []\n",
    "for i in range(len(bil_random.columns)):\n",
    "    nama_uik2.append(f'ui{i+1}w2')\n",
    "    \n",
    "print(nama_uik2)"
   ]
  },
  {
   "cell_type": "markdown",
   "metadata": {},
   "source": [
    "### Menentukan nama $uik*xij$"
   ]
  },
  {
   "cell_type": "code",
   "execution_count": 82,
   "metadata": {},
   "outputs": [
    {
     "name": "stdout",
     "output_type": "stream",
     "text": [
      "['ui1wxi1', 'ui1wxi2', 'ui1wxi3', 'ui2wxi1', 'ui2wxi2', 'ui2wxi3', 'ui3wxi1', 'ui3wxi2', 'ui3wxi3']\n"
     ]
    }
   ],
   "source": [
    "nama_uikxij = []\n",
    "for i in range(len(nama_uik2)):\n",
    "    for j in range(len(nama_uik2)):\n",
    "        nama = f\"ui{i+1}wxi{j+1}\"\n",
    "        nama_uikxij.append(nama)\n",
    "\n",
    "print(nama_uikxij)"
   ]
  },
  {
   "cell_type": "markdown",
   "metadata": {},
   "source": [
    "### Memasukkan nama dan nilai ke dataframe"
   ]
  },
  {
   "cell_type": "code",
   "execution_count": 83,
   "metadata": {},
   "outputs": [
    {
     "data": {
      "text/html": [
       "<div>\n",
       "<style scoped>\n",
       "    .dataframe tbody tr th:only-of-type {\n",
       "        vertical-align: middle;\n",
       "    }\n",
       "\n",
       "    .dataframe tbody tr th {\n",
       "        vertical-align: top;\n",
       "    }\n",
       "\n",
       "    .dataframe thead th {\n",
       "        text-align: right;\n",
       "    }\n",
       "</style>\n",
       "<table border=\"1\" class=\"dataframe\">\n",
       "  <thead>\n",
       "    <tr style=\"text-align: right;\">\n",
       "      <th></th>\n",
       "      <th>Imunisasi</th>\n",
       "      <th>Alat KB</th>\n",
       "      <th>Harapan Hidup</th>\n",
       "      <th>k1</th>\n",
       "      <th>k2</th>\n",
       "      <th>k3</th>\n",
       "      <th>ui1w2</th>\n",
       "      <th>ui2w2</th>\n",
       "      <th>ui3w2</th>\n",
       "      <th>ui1wxi1</th>\n",
       "      <th>ui1wxi2</th>\n",
       "      <th>ui1wxi3</th>\n",
       "      <th>ui2wxi1</th>\n",
       "      <th>ui2wxi2</th>\n",
       "      <th>ui2wxi3</th>\n",
       "      <th>ui3wxi1</th>\n",
       "      <th>ui3wxi2</th>\n",
       "      <th>ui3wxi3</th>\n",
       "    </tr>\n",
       "  </thead>\n",
       "  <tbody>\n",
       "    <tr>\n",
       "      <th>0</th>\n",
       "      <td>71.96</td>\n",
       "      <td>62.11</td>\n",
       "      <td>72.86</td>\n",
       "      <td>0.29</td>\n",
       "      <td>0.49</td>\n",
       "      <td>0.22</td>\n",
       "      <td>0.08</td>\n",
       "      <td>0.24</td>\n",
       "      <td>0.05</td>\n",
       "      <td>5.76</td>\n",
       "      <td>4.97</td>\n",
       "      <td>5.83</td>\n",
       "      <td>17.27</td>\n",
       "      <td>14.91</td>\n",
       "      <td>17.49</td>\n",
       "      <td>3.60</td>\n",
       "      <td>3.11</td>\n",
       "      <td>3.64</td>\n",
       "    </tr>\n",
       "    <tr>\n",
       "      <th>1</th>\n",
       "      <td>70.82</td>\n",
       "      <td>58.13</td>\n",
       "      <td>73.55</td>\n",
       "      <td>0.62</td>\n",
       "      <td>0.14</td>\n",
       "      <td>0.24</td>\n",
       "      <td>0.38</td>\n",
       "      <td>0.02</td>\n",
       "      <td>0.06</td>\n",
       "      <td>26.91</td>\n",
       "      <td>22.09</td>\n",
       "      <td>27.95</td>\n",
       "      <td>1.42</td>\n",
       "      <td>1.16</td>\n",
       "      <td>1.47</td>\n",
       "      <td>4.25</td>\n",
       "      <td>3.49</td>\n",
       "      <td>4.41</td>\n",
       "    </tr>\n",
       "    <tr>\n",
       "      <th>2</th>\n",
       "      <td>74.80</td>\n",
       "      <td>63.88</td>\n",
       "      <td>74.64</td>\n",
       "      <td>0.28</td>\n",
       "      <td>0.24</td>\n",
       "      <td>0.47</td>\n",
       "      <td>0.08</td>\n",
       "      <td>0.06</td>\n",
       "      <td>0.22</td>\n",
       "      <td>5.98</td>\n",
       "      <td>5.11</td>\n",
       "      <td>5.97</td>\n",
       "      <td>4.49</td>\n",
       "      <td>3.83</td>\n",
       "      <td>4.48</td>\n",
       "      <td>16.46</td>\n",
       "      <td>14.05</td>\n",
       "      <td>16.42</td>\n",
       "    </tr>\n",
       "    <tr>\n",
       "      <th>3</th>\n",
       "      <td>81.09</td>\n",
       "      <td>59.02</td>\n",
       "      <td>74.91</td>\n",
       "      <td>0.19</td>\n",
       "      <td>0.43</td>\n",
       "      <td>0.38</td>\n",
       "      <td>0.04</td>\n",
       "      <td>0.18</td>\n",
       "      <td>0.14</td>\n",
       "      <td>3.24</td>\n",
       "      <td>2.36</td>\n",
       "      <td>3.00</td>\n",
       "      <td>14.60</td>\n",
       "      <td>10.62</td>\n",
       "      <td>13.48</td>\n",
       "      <td>11.35</td>\n",
       "      <td>8.26</td>\n",
       "      <td>10.49</td>\n",
       "    </tr>\n",
       "    <tr>\n",
       "      <th>4</th>\n",
       "      <td>77.55</td>\n",
       "      <td>61.15</td>\n",
       "      <td>74.34</td>\n",
       "      <td>0.46</td>\n",
       "      <td>0.05</td>\n",
       "      <td>0.49</td>\n",
       "      <td>0.21</td>\n",
       "      <td>0.00</td>\n",
       "      <td>0.24</td>\n",
       "      <td>16.29</td>\n",
       "      <td>12.84</td>\n",
       "      <td>15.61</td>\n",
       "      <td>0.00</td>\n",
       "      <td>0.00</td>\n",
       "      <td>0.00</td>\n",
       "      <td>18.61</td>\n",
       "      <td>14.68</td>\n",
       "      <td>17.84</td>\n",
       "    </tr>\n",
       "    <tr>\n",
       "      <th>5</th>\n",
       "      <td>63.94</td>\n",
       "      <td>56.70</td>\n",
       "      <td>73.27</td>\n",
       "      <td>0.56</td>\n",
       "      <td>0.41</td>\n",
       "      <td>0.03</td>\n",
       "      <td>0.31</td>\n",
       "      <td>0.17</td>\n",
       "      <td>0.00</td>\n",
       "      <td>19.82</td>\n",
       "      <td>17.58</td>\n",
       "      <td>22.71</td>\n",
       "      <td>10.87</td>\n",
       "      <td>9.64</td>\n",
       "      <td>12.46</td>\n",
       "      <td>0.00</td>\n",
       "      <td>0.00</td>\n",
       "      <td>0.00</td>\n",
       "    </tr>\n",
       "    <tr>\n",
       "      <th>6</th>\n",
       "      <td>59.48</td>\n",
       "      <td>66.18</td>\n",
       "      <td>73.26</td>\n",
       "      <td>0.41</td>\n",
       "      <td>0.27</td>\n",
       "      <td>0.32</td>\n",
       "      <td>0.17</td>\n",
       "      <td>0.07</td>\n",
       "      <td>0.10</td>\n",
       "      <td>10.11</td>\n",
       "      <td>11.25</td>\n",
       "      <td>12.45</td>\n",
       "      <td>4.16</td>\n",
       "      <td>4.63</td>\n",
       "      <td>5.13</td>\n",
       "      <td>5.95</td>\n",
       "      <td>6.62</td>\n",
       "      <td>7.33</td>\n",
       "    </tr>\n",
       "    <tr>\n",
       "      <th>7</th>\n",
       "      <td>56.28</td>\n",
       "      <td>69.76</td>\n",
       "      <td>70.96</td>\n",
       "      <td>0.19</td>\n",
       "      <td>0.53</td>\n",
       "      <td>0.29</td>\n",
       "      <td>0.04</td>\n",
       "      <td>0.28</td>\n",
       "      <td>0.08</td>\n",
       "      <td>2.25</td>\n",
       "      <td>2.79</td>\n",
       "      <td>2.84</td>\n",
       "      <td>15.76</td>\n",
       "      <td>19.53</td>\n",
       "      <td>19.87</td>\n",
       "      <td>4.50</td>\n",
       "      <td>5.58</td>\n",
       "      <td>5.68</td>\n",
       "    </tr>\n",
       "    <tr>\n",
       "      <th>8</th>\n",
       "      <td>63.93</td>\n",
       "      <td>70.69</td>\n",
       "      <td>70.03</td>\n",
       "      <td>0.52</td>\n",
       "      <td>0.08</td>\n",
       "      <td>0.40</td>\n",
       "      <td>0.27</td>\n",
       "      <td>0.01</td>\n",
       "      <td>0.16</td>\n",
       "      <td>17.26</td>\n",
       "      <td>19.09</td>\n",
       "      <td>18.91</td>\n",
       "      <td>0.64</td>\n",
       "      <td>0.71</td>\n",
       "      <td>0.70</td>\n",
       "      <td>10.23</td>\n",
       "      <td>11.31</td>\n",
       "      <td>11.20</td>\n",
       "    </tr>\n",
       "    <tr>\n",
       "      <th>9</th>\n",
       "      <td>57.68</td>\n",
       "      <td>64.84</td>\n",
       "      <td>71.38</td>\n",
       "      <td>0.24</td>\n",
       "      <td>0.12</td>\n",
       "      <td>0.64</td>\n",
       "      <td>0.06</td>\n",
       "      <td>0.01</td>\n",
       "      <td>0.41</td>\n",
       "      <td>3.46</td>\n",
       "      <td>3.89</td>\n",
       "      <td>4.28</td>\n",
       "      <td>0.58</td>\n",
       "      <td>0.65</td>\n",
       "      <td>0.71</td>\n",
       "      <td>23.65</td>\n",
       "      <td>26.58</td>\n",
       "      <td>29.27</td>\n",
       "    </tr>\n",
       "  </tbody>\n",
       "</table>\n",
       "</div>"
      ],
      "text/plain": [
       "   Imunisasi  Alat KB  Harapan Hidup    k1    k2    k3  ui1w2  ui2w2  ui3w2  \\\n",
       "0      71.96    62.11          72.86  0.29  0.49  0.22   0.08   0.24   0.05   \n",
       "1      70.82    58.13          73.55  0.62  0.14  0.24   0.38   0.02   0.06   \n",
       "2      74.80    63.88          74.64  0.28  0.24  0.47   0.08   0.06   0.22   \n",
       "3      81.09    59.02          74.91  0.19  0.43  0.38   0.04   0.18   0.14   \n",
       "4      77.55    61.15          74.34  0.46  0.05  0.49   0.21   0.00   0.24   \n",
       "5      63.94    56.70          73.27  0.56  0.41  0.03   0.31   0.17   0.00   \n",
       "6      59.48    66.18          73.26  0.41  0.27  0.32   0.17   0.07   0.10   \n",
       "7      56.28    69.76          70.96  0.19  0.53  0.29   0.04   0.28   0.08   \n",
       "8      63.93    70.69          70.03  0.52  0.08  0.40   0.27   0.01   0.16   \n",
       "9      57.68    64.84          71.38  0.24  0.12  0.64   0.06   0.01   0.41   \n",
       "\n",
       "   ui1wxi1  ui1wxi2  ui1wxi3  ui2wxi1  ui2wxi2  ui2wxi3  ui3wxi1  ui3wxi2  \\\n",
       "0     5.76     4.97     5.83    17.27    14.91    17.49     3.60     3.11   \n",
       "1    26.91    22.09    27.95     1.42     1.16     1.47     4.25     3.49   \n",
       "2     5.98     5.11     5.97     4.49     3.83     4.48    16.46    14.05   \n",
       "3     3.24     2.36     3.00    14.60    10.62    13.48    11.35     8.26   \n",
       "4    16.29    12.84    15.61     0.00     0.00     0.00    18.61    14.68   \n",
       "5    19.82    17.58    22.71    10.87     9.64    12.46     0.00     0.00   \n",
       "6    10.11    11.25    12.45     4.16     4.63     5.13     5.95     6.62   \n",
       "7     2.25     2.79     2.84    15.76    19.53    19.87     4.50     5.58   \n",
       "8    17.26    19.09    18.91     0.64     0.71     0.70    10.23    11.31   \n",
       "9     3.46     3.89     4.28     0.58     0.65     0.71    23.65    26.58   \n",
       "\n",
       "   ui3wxi3  \n",
       "0     3.64  \n",
       "1     4.41  \n",
       "2    16.42  \n",
       "3    10.49  \n",
       "4    17.84  \n",
       "5     0.00  \n",
       "6     7.33  \n",
       "7     5.68  \n",
       "8    11.20  \n",
       "9    29.27  "
      ]
     },
     "execution_count": 83,
     "metadata": {},
     "output_type": "execute_result"
    }
   ],
   "source": [
    "df_pusat_cluster = data_fuzzy.copy()\n",
    "df_pusat_cluster = df_pusat_cluster.merge(bil_random, left_index=True, right_index=True)\n",
    "df_pusat_cluster = df_pusat_cluster.merge(pd.DataFrame(uik2, columns=nama_uik2), left_index=True, right_index=True)\n",
    "df_pusat_cluster = df_pusat_cluster.merge(pd.DataFrame(uikxij, columns=nama_uikxij), left_index=True, right_index=True)\n",
    "df_pusat_cluster.head(10)"
   ]
  },
  {
   "cell_type": "markdown",
   "metadata": {},
   "source": [
    "# Mencari Total $uiwxi$"
   ]
  },
  {
   "cell_type": "code",
   "execution_count": 84,
   "metadata": {},
   "outputs": [
    {
     "name": "stdout",
     "output_type": "stream",
     "text": [
      "[111.08, 101.97, 119.55, 69.79, 65.68, 75.79, 98.6, 93.68, 106.28]\n"
     ]
    }
   ],
   "source": [
    "total_uiwxi = []\n",
    "for nama in nama_uikxij:\n",
    "    total = round(df_pusat_cluster[nama].sum(), 2)\n",
    "    total_uiwxi.append(total)\n",
    "\n",
    "print(total_uiwxi)"
   ]
  },
  {
   "cell_type": "markdown",
   "metadata": {},
   "source": [
    "# Mencari Pusat $Cluster V$"
   ]
  },
  {
   "cell_type": "code",
   "execution_count": 85,
   "metadata": {},
   "outputs": [
    {
     "data": {
      "text/html": [
       "<div>\n",
       "<style scoped>\n",
       "    .dataframe tbody tr th:only-of-type {\n",
       "        vertical-align: middle;\n",
       "    }\n",
       "\n",
       "    .dataframe tbody tr th {\n",
       "        vertical-align: top;\n",
       "    }\n",
       "\n",
       "    .dataframe thead th {\n",
       "        text-align: right;\n",
       "    }\n",
       "</style>\n",
       "<table border=\"1\" class=\"dataframe\">\n",
       "  <thead>\n",
       "    <tr style=\"text-align: right;\">\n",
       "      <th></th>\n",
       "      <th>0</th>\n",
       "      <th>1</th>\n",
       "      <th>2</th>\n",
       "    </tr>\n",
       "  </thead>\n",
       "  <tbody>\n",
       "    <tr>\n",
       "      <th>0</th>\n",
       "      <td>67.731707</td>\n",
       "      <td>62.176829</td>\n",
       "      <td>72.896341</td>\n",
       "    </tr>\n",
       "    <tr>\n",
       "      <th>1</th>\n",
       "      <td>67.105769</td>\n",
       "      <td>63.153846</td>\n",
       "      <td>72.875000</td>\n",
       "    </tr>\n",
       "    <tr>\n",
       "      <th>2</th>\n",
       "      <td>67.534247</td>\n",
       "      <td>64.164384</td>\n",
       "      <td>72.794521</td>\n",
       "    </tr>\n",
       "  </tbody>\n",
       "</table>\n",
       "</div>"
      ],
      "text/plain": [
       "           0          1          2\n",
       "0  67.731707  62.176829  72.896341\n",
       "1  67.105769  63.153846  72.875000\n",
       "2  67.534247  64.164384  72.794521"
      ]
     },
     "execution_count": 85,
     "metadata": {},
     "output_type": "execute_result"
    }
   ],
   "source": [
    "index_uiw = 0\n",
    "pusat_cluster = [[] for i in range(jumlah_cluster)]\n",
    "for index_uiwxi , data in enumerate(total_uiwxi):\n",
    "    # print(data, total_uiw[index_uiw])\n",
    "    hitung = data / total_uiw[index_uiw]\n",
    "    pusat_cluster[index_uiw].append(hitung)\n",
    "\n",
    "    if (index_uiwxi + 1) % jumlah_cluster == 0:\n",
    "        index_uiw += 1\n",
    "\n",
    "df_vkj = pd.DataFrame(pusat_cluster)\n",
    "df_vkj.head()"
   ]
  },
  {
   "cell_type": "markdown",
   "metadata": {},
   "source": [
    "# Menghitung Fungsi Objektifitas dengan rumus \\n\n",
    "### Rumus $P_1 = \\sum_{i=1}^{10} \\sum_{k=1}^2 ([\\sum_{j=1}^2(X_{ij}- V_kj)^2](\\mu_{ik})^2)$"
   ]
  },
  {
   "cell_type": "code",
   "execution_count": 86,
   "metadata": {},
   "outputs": [],
   "source": [
    "list_objektif = [[] for i in range(jumlah_cluster)]\n",
    "\n",
    "for index_data, data in enumerate(data_fuzzy.values):\n",
    "    for index_cluster, cluster in enumerate(pusat_cluster):\n",
    "        no_cluster = []\n",
    "        for index_fuzzy, fuzzy in enumerate(data):\n",
    "            hitung = (fuzzy - cluster[index_fuzzy]) ** 2\n",
    "            # print(index_cluster, \":\" ,fuzzy, \"*\" ,cluster[index_fuzzy], \"=\" , hitung)\n",
    "\n",
    "            no_cluster.append(hitung)\n",
    "        list_objektif[index_cluster].append(no_cluster)"
   ]
  },
  {
   "cell_type": "code",
   "execution_count": 87,
   "metadata": {},
   "outputs": [
    {
     "name": "stdout",
     "output_type": "stream",
     "text": [
      "[17.878459012492492, 0.004466151100535819, 0.0013207019631178885],[9.537551695419337, 16.376827126710293, 0.42726948245090657],[49.96076145151688, 2.9007905413444375, 3.0403450922069903],[178.4439834027365, 9.965571029149313, 4.0548207019630675],[96.3988712076144, 1.054378346222495, 2.0841499702557837],[14.377044378346259, 29.995658834027363, 0.1396207019631075],[68.09067364663899, 16.02537590719813, 0.13224753123140703],[131.14160047590724, 57.50447834622253, 3.749418262938786],[14.452978524687706, 72.47407590719801, 8.215913384889992],[101.03681998810238, 7.0924783462224905, 2.2992914336704753],\n",
      "[23.56355636094659, 1.089614792899423, 0.00022500000000001704],[13.795510207100468, 25.239030177514834, 0.45562499999999617],[59.20118713017732, 0.5272994082840179, 3.115225000000002],[195.5587102071004, 17.088684023668666, 4.141224999999986],[109.08195636094648, 4.015399408284056, 2.14622500000001],[10.022094822485284, 41.65213017751484, 0.15602499999999686],[58.152356360946946, 9.157607100591717, 0.14822500000000394],[117.19727943787001, 43.64126863905324, 3.667225000000024],[10.085510207100656, 56.79361479289928, 8.094024999999993],[88.84512559171617, 2.8431147928993976, 2.2350250000000136],\n",
      "[19.587293375867844, 4.2204918183524525, 0.004287558641395295],[10.796175567648676, 36.41378496903743, 0.5707492024769995],[52.79117282792266, 0.08087401013323722, 3.4057944079564453],[183.7584509101146, 26.464682229311382, 4.475253312066014],[100.3153166635391, 9.086508256708642, 2.3885067367235804],[12.918608444361052, 55.717021955338815, 0.2260807093263183],[64.87088789641587, 4.0627096265715785, 0.21667112028523108],[126.65806597860757, 31.310923325201678, 3.3654656408332215],[12.990593375867888, 42.58366990054404, 7.642573860011285],[97.1061755676487, 0.4564575717770606, 2.0008683805592336],\n"
     ]
    }
   ],
   "source": [
    "for objektif in list_objektif:\n",
    "    for index, data in enumerate(objektif):\n",
    "        print(data, end=',')\n",
    "    print()"
   ]
  },
  {
   "cell_type": "markdown",
   "metadata": {},
   "source": [
    "### Membuat Data Frame Cluster"
   ]
  },
  {
   "cell_type": "code",
   "execution_count": 88,
   "metadata": {},
   "outputs": [],
   "source": [
    "df_cluster = []\n",
    "nama_kolom_cluster = [f\"xi{i+1}_vi{i+1}\" for i in range(jumlah_cluster)]\n",
    "nama_kolom_cluster.append('total')\n",
    "\n",
    "for index_objektif, objektif in enumerate(list_objektif):\n",
    "    df_nilai = pd.DataFrame(columns=nama_kolom_cluster)\n",
    "    for index_nilai, nilai in enumerate(objektif):\n",
    "        total = sum(nilai)\n",
    "        nilai.append(total)\n",
    "        df_nilai.loc[index_nilai] = nilai\n",
    "    df_cluster.append(df_nilai)\n"
   ]
  },
  {
   "cell_type": "markdown",
   "metadata": {},
   "source": [
    "### Menampilkan Cluster 1"
   ]
  },
  {
   "cell_type": "code",
   "execution_count": 89,
   "metadata": {},
   "outputs": [
    {
     "data": {
      "text/html": [
       "<div>\n",
       "<style scoped>\n",
       "    .dataframe tbody tr th:only-of-type {\n",
       "        vertical-align: middle;\n",
       "    }\n",
       "\n",
       "    .dataframe tbody tr th {\n",
       "        vertical-align: top;\n",
       "    }\n",
       "\n",
       "    .dataframe thead th {\n",
       "        text-align: right;\n",
       "    }\n",
       "</style>\n",
       "<table border=\"1\" class=\"dataframe\">\n",
       "  <thead>\n",
       "    <tr style=\"text-align: right;\">\n",
       "      <th></th>\n",
       "      <th>xi1_vi1</th>\n",
       "      <th>xi2_vi2</th>\n",
       "      <th>xi3_vi3</th>\n",
       "      <th>total</th>\n",
       "    </tr>\n",
       "  </thead>\n",
       "  <tbody>\n",
       "    <tr>\n",
       "      <th>0</th>\n",
       "      <td>17.878459</td>\n",
       "      <td>0.004466</td>\n",
       "      <td>0.001321</td>\n",
       "      <td>17.884246</td>\n",
       "    </tr>\n",
       "    <tr>\n",
       "      <th>1</th>\n",
       "      <td>9.537552</td>\n",
       "      <td>16.376827</td>\n",
       "      <td>0.427269</td>\n",
       "      <td>26.341648</td>\n",
       "    </tr>\n",
       "    <tr>\n",
       "      <th>2</th>\n",
       "      <td>49.960761</td>\n",
       "      <td>2.900791</td>\n",
       "      <td>3.040345</td>\n",
       "      <td>55.901897</td>\n",
       "    </tr>\n",
       "    <tr>\n",
       "      <th>3</th>\n",
       "      <td>178.443983</td>\n",
       "      <td>9.965571</td>\n",
       "      <td>4.054821</td>\n",
       "      <td>192.464375</td>\n",
       "    </tr>\n",
       "    <tr>\n",
       "      <th>4</th>\n",
       "      <td>96.398871</td>\n",
       "      <td>1.054378</td>\n",
       "      <td>2.084150</td>\n",
       "      <td>99.537400</td>\n",
       "    </tr>\n",
       "  </tbody>\n",
       "</table>\n",
       "</div>"
      ],
      "text/plain": [
       "      xi1_vi1    xi2_vi2   xi3_vi3       total\n",
       "0   17.878459   0.004466  0.001321   17.884246\n",
       "1    9.537552  16.376827  0.427269   26.341648\n",
       "2   49.960761   2.900791  3.040345   55.901897\n",
       "3  178.443983   9.965571  4.054821  192.464375\n",
       "4   96.398871   1.054378  2.084150   99.537400"
      ]
     },
     "execution_count": 89,
     "metadata": {},
     "output_type": "execute_result"
    }
   ],
   "source": [
    "df_cluster[0].head()"
   ]
  },
  {
   "cell_type": "markdown",
   "metadata": {},
   "source": [
    "### Menampilkan Cluster 2"
   ]
  },
  {
   "cell_type": "code",
   "execution_count": 90,
   "metadata": {},
   "outputs": [
    {
     "data": {
      "text/html": [
       "<div>\n",
       "<style scoped>\n",
       "    .dataframe tbody tr th:only-of-type {\n",
       "        vertical-align: middle;\n",
       "    }\n",
       "\n",
       "    .dataframe tbody tr th {\n",
       "        vertical-align: top;\n",
       "    }\n",
       "\n",
       "    .dataframe thead th {\n",
       "        text-align: right;\n",
       "    }\n",
       "</style>\n",
       "<table border=\"1\" class=\"dataframe\">\n",
       "  <thead>\n",
       "    <tr style=\"text-align: right;\">\n",
       "      <th></th>\n",
       "      <th>xi1_vi1</th>\n",
       "      <th>xi2_vi2</th>\n",
       "      <th>xi3_vi3</th>\n",
       "      <th>total</th>\n",
       "    </tr>\n",
       "  </thead>\n",
       "  <tbody>\n",
       "    <tr>\n",
       "      <th>0</th>\n",
       "      <td>23.563556</td>\n",
       "      <td>1.089615</td>\n",
       "      <td>0.000225</td>\n",
       "      <td>24.653396</td>\n",
       "    </tr>\n",
       "    <tr>\n",
       "      <th>1</th>\n",
       "      <td>13.795510</td>\n",
       "      <td>25.239030</td>\n",
       "      <td>0.455625</td>\n",
       "      <td>39.490165</td>\n",
       "    </tr>\n",
       "    <tr>\n",
       "      <th>2</th>\n",
       "      <td>59.201187</td>\n",
       "      <td>0.527299</td>\n",
       "      <td>3.115225</td>\n",
       "      <td>62.843712</td>\n",
       "    </tr>\n",
       "    <tr>\n",
       "      <th>3</th>\n",
       "      <td>195.558710</td>\n",
       "      <td>17.088684</td>\n",
       "      <td>4.141225</td>\n",
       "      <td>216.788619</td>\n",
       "    </tr>\n",
       "    <tr>\n",
       "      <th>4</th>\n",
       "      <td>109.081956</td>\n",
       "      <td>4.015399</td>\n",
       "      <td>2.146225</td>\n",
       "      <td>115.243581</td>\n",
       "    </tr>\n",
       "  </tbody>\n",
       "</table>\n",
       "</div>"
      ],
      "text/plain": [
       "      xi1_vi1    xi2_vi2   xi3_vi3       total\n",
       "0   23.563556   1.089615  0.000225   24.653396\n",
       "1   13.795510  25.239030  0.455625   39.490165\n",
       "2   59.201187   0.527299  3.115225   62.843712\n",
       "3  195.558710  17.088684  4.141225  216.788619\n",
       "4  109.081956   4.015399  2.146225  115.243581"
      ]
     },
     "execution_count": 90,
     "metadata": {},
     "output_type": "execute_result"
    }
   ],
   "source": [
    "df_cluster[1].head()"
   ]
  },
  {
   "cell_type": "markdown",
   "metadata": {},
   "source": [
    "### Menampilkan Cluster 3"
   ]
  },
  {
   "cell_type": "code",
   "execution_count": 91,
   "metadata": {},
   "outputs": [
    {
     "data": {
      "text/html": [
       "<div>\n",
       "<style scoped>\n",
       "    .dataframe tbody tr th:only-of-type {\n",
       "        vertical-align: middle;\n",
       "    }\n",
       "\n",
       "    .dataframe tbody tr th {\n",
       "        vertical-align: top;\n",
       "    }\n",
       "\n",
       "    .dataframe thead th {\n",
       "        text-align: right;\n",
       "    }\n",
       "</style>\n",
       "<table border=\"1\" class=\"dataframe\">\n",
       "  <thead>\n",
       "    <tr style=\"text-align: right;\">\n",
       "      <th></th>\n",
       "      <th>xi1_vi1</th>\n",
       "      <th>xi2_vi2</th>\n",
       "      <th>xi3_vi3</th>\n",
       "      <th>total</th>\n",
       "    </tr>\n",
       "  </thead>\n",
       "  <tbody>\n",
       "    <tr>\n",
       "      <th>0</th>\n",
       "      <td>19.587293</td>\n",
       "      <td>4.220492</td>\n",
       "      <td>0.004288</td>\n",
       "      <td>23.812073</td>\n",
       "    </tr>\n",
       "    <tr>\n",
       "      <th>1</th>\n",
       "      <td>10.796176</td>\n",
       "      <td>36.413785</td>\n",
       "      <td>0.570749</td>\n",
       "      <td>47.780710</td>\n",
       "    </tr>\n",
       "    <tr>\n",
       "      <th>2</th>\n",
       "      <td>52.791173</td>\n",
       "      <td>0.080874</td>\n",
       "      <td>3.405794</td>\n",
       "      <td>56.277841</td>\n",
       "    </tr>\n",
       "    <tr>\n",
       "      <th>3</th>\n",
       "      <td>183.758451</td>\n",
       "      <td>26.464682</td>\n",
       "      <td>4.475253</td>\n",
       "      <td>214.698386</td>\n",
       "    </tr>\n",
       "    <tr>\n",
       "      <th>4</th>\n",
       "      <td>100.315317</td>\n",
       "      <td>9.086508</td>\n",
       "      <td>2.388507</td>\n",
       "      <td>111.790332</td>\n",
       "    </tr>\n",
       "  </tbody>\n",
       "</table>\n",
       "</div>"
      ],
      "text/plain": [
       "      xi1_vi1    xi2_vi2   xi3_vi3       total\n",
       "0   19.587293   4.220492  0.004288   23.812073\n",
       "1   10.796176  36.413785  0.570749   47.780710\n",
       "2   52.791173   0.080874  3.405794   56.277841\n",
       "3  183.758451  26.464682  4.475253  214.698386\n",
       "4  100.315317   9.086508  2.388507  111.790332"
      ]
     },
     "execution_count": 91,
     "metadata": {},
     "output_type": "execute_result"
    }
   ],
   "source": [
    "df_cluster[2].head()"
   ]
  },
  {
   "cell_type": "markdown",
   "metadata": {},
   "source": [
    "### Menghitung fungsi objektifitas pada suatu iterasi"
   ]
  },
  {
   "cell_type": "code",
   "execution_count": 92,
   "metadata": {},
   "outputs": [],
   "source": [
    "p_cluster = []\n",
    "\n",
    "for index_cluster, cluster in enumerate(df_cluster):\n",
    "    hitung_cluster = []\n",
    "    for index_data, data in enumerate(cluster['total']):\n",
    "        hitung = data * uik2[index_data][index_cluster]\n",
    "        hitung_cluster.append(hitung)\n",
    "\n",
    "    p_cluster.append(hitung_cluster)"
   ]
  },
  {
   "cell_type": "code",
   "execution_count": null,
   "metadata": {},
   "outputs": [
    {
     "name": "stdout",
     "output_type": "stream",
     "text": [
      "10\n",
      "10\n",
      "10\n"
     ]
    }
   ],
   "source": [
    "for total in p_cluster:\n",
    "    print(total)"
   ]
  },
  {
   "cell_type": "code",
   "execution_count": 94,
   "metadata": {},
   "outputs": [],
   "source": [
    "p_total = []\n",
    "\n",
    "for i in range(len(p_cluster[0])):\n",
    "    total = 0\n",
    "    for j in range(jumlah_cluster):\n",
    "        total += p_cluster[j][i]\n",
    "\n",
    "    p_total.append(total)"
   ]
  },
  {
   "cell_type": "code",
   "execution_count": 95,
   "metadata": {},
   "outputs": [
    {
     "name": "stdout",
     "output_type": "stream",
     "text": [
      "8.538158383810618\n",
      "13.666472247782696\n",
      "20.623899533235857\n",
      "76.77830057010127\n",
      "47.732533497732575\n",
      "22.60996291344441\n",
      "25.959310561096625\n",
      "66.66419274051266\n",
      "36.553026752357155\n",
      "48.385983663119724\n"
     ]
    }
   ],
   "source": [
    "for total in p_total:\n",
    "    print(total)"
   ]
  },
  {
   "cell_type": "code",
   "execution_count": 96,
   "metadata": {},
   "outputs": [
    {
     "name": "stdout",
     "output_type": "stream",
     "text": [
      "367.5118408631935\n"
     ]
    }
   ],
   "source": [
    "sum_p_total = sum(p_total)\n",
    "print(sum_p_total)"
   ]
  },
  {
   "cell_type": "markdown",
   "metadata": {},
   "source": [
    "# Menghitung perubahan matriks partisi U"
   ]
  },
  {
   "cell_type": "markdown",
   "metadata": {},
   "source": [
    "### $\\mu_{ik} = \\frac{[\\sum_{j=1}^m(X_{ij}-V_{kj})^2]^{\\frac{-1}{w-1}}}{\\sum_{k=1}^c[\\sum_{j=1}^m(X_{ij}-V_{kj})^2]^{\\frac{-1}{w-1}}}$"
   ]
  },
  {
   "cell_type": "code",
   "execution_count": 97,
   "metadata": {},
   "outputs": [
    {
     "name": "stdout",
     "output_type": "stream",
     "text": [
      "71.96 67.73170731707317  =  17.878459012492492\n",
      "70.82 67.73170731707317  =  9.537551695419337\n",
      "74.8 67.73170731707317  =  49.96076145151688\n",
      "81.09 67.73170731707317  =  178.4439834027365\n",
      "77.55 67.73170731707317  =  96.3988712076144\n",
      "63.94 67.73170731707317  =  14.377044378346259\n",
      "59.48 67.73170731707317  =  68.09067364663899\n",
      "56.28 67.73170731707317  =  131.14160047590724\n",
      "63.93 67.73170731707317  =  14.452978524687706\n",
      "57.68 67.73170731707317  =  101.03681998810238\n",
      "\n",
      "62.11 62.176829268292686  =  0.004466151100535819\n",
      "58.13 62.176829268292686  =  16.376827126710293\n",
      "63.88 62.176829268292686  =  2.9007905413444375\n",
      "59.02 62.176829268292686  =  9.965571029149313\n",
      "61.15 62.176829268292686  =  1.054378346222495\n",
      "56.7 62.176829268292686  =  29.995658834027363\n",
      "66.18 62.176829268292686  =  16.02537590719813\n",
      "69.76 62.176829268292686  =  57.50447834622253\n",
      "70.69 62.176829268292686  =  72.47407590719801\n",
      "64.84 62.176829268292686  =  7.0924783462224905\n",
      "\n",
      "72.86 72.89634146341464  =  0.0013207019631178885\n",
      "73.55 72.89634146341464  =  0.42726948245090657\n",
      "74.64 72.89634146341464  =  3.0403450922069903\n",
      "74.91 72.89634146341464  =  4.0548207019630675\n",
      "74.34 72.89634146341464  =  2.0841499702557837\n",
      "73.27 72.89634146341464  =  0.1396207019631075\n",
      "73.26 72.89634146341464  =  0.13224753123140703\n",
      "70.96 72.89634146341464  =  3.749418262938786\n",
      "70.03 72.89634146341464  =  8.215913384889992\n",
      "71.38 72.89634146341464  =  2.2992914336704753\n",
      "\n",
      "\n",
      "71.96 67.10576923076924  =  23.56355636094659\n",
      "70.82 67.10576923076924  =  13.795510207100468\n",
      "74.8 67.10576923076924  =  59.20118713017732\n",
      "81.09 67.10576923076924  =  195.5587102071004\n",
      "77.55 67.10576923076924  =  109.08195636094648\n",
      "63.94 67.10576923076924  =  10.022094822485284\n",
      "59.48 67.10576923076924  =  58.152356360946946\n",
      "56.28 67.10576923076924  =  117.19727943787001\n",
      "63.93 67.10576923076924  =  10.085510207100656\n",
      "57.68 67.10576923076924  =  88.84512559171617\n",
      "\n",
      "62.11 63.15384615384616  =  1.089614792899423\n",
      "58.13 63.15384615384616  =  25.239030177514834\n",
      "63.88 63.15384615384616  =  0.5272994082840179\n",
      "59.02 63.15384615384616  =  17.088684023668666\n",
      "61.15 63.15384615384616  =  4.015399408284056\n",
      "56.7 63.15384615384616  =  41.65213017751484\n",
      "66.18 63.15384615384616  =  9.157607100591717\n",
      "69.76 63.15384615384616  =  43.64126863905324\n",
      "70.69 63.15384615384616  =  56.79361479289928\n",
      "64.84 63.15384615384616  =  2.8431147928993976\n",
      "\n",
      "72.86 72.875  =  0.00022500000000001704\n",
      "73.55 72.875  =  0.45562499999999617\n",
      "74.64 72.875  =  3.115225000000002\n",
      "74.91 72.875  =  4.141224999999986\n",
      "74.34 72.875  =  2.14622500000001\n",
      "73.27 72.875  =  0.15602499999999686\n",
      "73.26 72.875  =  0.14822500000000394\n",
      "70.96 72.875  =  3.667225000000024\n",
      "70.03 72.875  =  8.094024999999993\n",
      "71.38 72.875  =  2.2350250000000136\n",
      "\n",
      "\n",
      "71.96 67.53424657534246  =  19.587293375867844\n",
      "70.82 67.53424657534246  =  10.796175567648676\n",
      "74.8 67.53424657534246  =  52.79117282792266\n",
      "81.09 67.53424657534246  =  183.7584509101146\n",
      "77.55 67.53424657534246  =  100.3153166635391\n",
      "63.94 67.53424657534246  =  12.918608444361052\n",
      "59.48 67.53424657534246  =  64.87088789641587\n",
      "56.28 67.53424657534246  =  126.65806597860757\n",
      "63.93 67.53424657534246  =  12.990593375867888\n",
      "57.68 67.53424657534246  =  97.1061755676487\n",
      "\n",
      "62.11 64.16438356164385  =  4.2204918183524525\n",
      "58.13 64.16438356164385  =  36.41378496903743\n",
      "63.88 64.16438356164385  =  0.08087401013323722\n",
      "59.02 64.16438356164385  =  26.464682229311382\n",
      "61.15 64.16438356164385  =  9.086508256708642\n",
      "56.7 64.16438356164385  =  55.717021955338815\n",
      "66.18 64.16438356164385  =  4.0627096265715785\n",
      "69.76 64.16438356164385  =  31.310923325201678\n",
      "70.69 64.16438356164385  =  42.58366990054404\n",
      "64.84 64.16438356164385  =  0.4564575717770606\n",
      "\n",
      "72.86 72.79452054794521  =  0.004287558641395295\n",
      "73.55 72.79452054794521  =  0.5707492024769995\n",
      "74.64 72.79452054794521  =  3.4057944079564453\n",
      "74.91 72.79452054794521  =  4.475253312066014\n",
      "74.34 72.79452054794521  =  2.3885067367235804\n",
      "73.27 72.79452054794521  =  0.2260807093263183\n",
      "73.26 72.79452054794521  =  0.21667112028523108\n",
      "70.96 72.79452054794521  =  3.3654656408332215\n",
      "70.03 72.79452054794521  =  7.642573860011285\n",
      "71.38 72.79452054794521  =  2.0008683805592336\n",
      "\n",
      "\n"
     ]
    }
   ],
   "source": [
    "list_xijvkj2 = [[] for i in range(jumlah_cluster ** pangkat_pembobotan)]\n",
    "index_xij = 0\n",
    "for index_cluster, cluster in enumerate(pusat_cluster):\n",
    "    for index_fuzzy, fuzzy in enumerate(data_fuzzy.columns):\n",
    "        for index_data, data in enumerate(data_fuzzy[fuzzy]):\n",
    "            hitung = (data - cluster[index_fuzzy]) ** 2\n",
    "            print(data, cluster[index_fuzzy], \" = \", hitung)\n",
    "            list_xijvkj2[index_xij].append(hitung)\n",
    "        print()\n",
    "        index_xij += 1\n",
    "    print()"
   ]
  },
  {
   "cell_type": "code",
   "execution_count": 98,
   "metadata": {},
   "outputs": [
    {
     "name": "stdout",
     "output_type": "stream",
     "text": [
      "[17.878459012492492, 9.537551695419337, 49.96076145151688, 178.4439834027365, 96.3988712076144, 14.377044378346259, 68.09067364663899, 131.14160047590724, 14.452978524687706, 101.03681998810238]\n",
      "[0.004466151100535819, 16.376827126710293, 2.9007905413444375, 9.965571029149313, 1.054378346222495, 29.995658834027363, 16.02537590719813, 57.50447834622253, 72.47407590719801, 7.0924783462224905]\n",
      "[0.0013207019631178885, 0.42726948245090657, 3.0403450922069903, 4.0548207019630675, 2.0841499702557837, 0.1396207019631075, 0.13224753123140703, 3.749418262938786, 8.215913384889992, 2.2992914336704753]\n",
      "[23.56355636094659, 13.795510207100468, 59.20118713017732, 195.5587102071004, 109.08195636094648, 10.022094822485284, 58.152356360946946, 117.19727943787001, 10.085510207100656, 88.84512559171617]\n",
      "[1.089614792899423, 25.239030177514834, 0.5272994082840179, 17.088684023668666, 4.015399408284056, 41.65213017751484, 9.157607100591717, 43.64126863905324, 56.79361479289928, 2.8431147928993976]\n",
      "[0.00022500000000001704, 0.45562499999999617, 3.115225000000002, 4.141224999999986, 2.14622500000001, 0.15602499999999686, 0.14822500000000394, 3.667225000000024, 8.094024999999993, 2.2350250000000136]\n",
      "[19.587293375867844, 10.796175567648676, 52.79117282792266, 183.7584509101146, 100.3153166635391, 12.918608444361052, 64.87088789641587, 126.65806597860757, 12.990593375867888, 97.1061755676487]\n",
      "[4.2204918183524525, 36.41378496903743, 0.08087401013323722, 26.464682229311382, 9.086508256708642, 55.717021955338815, 4.0627096265715785, 31.310923325201678, 42.58366990054404, 0.4564575717770606]\n",
      "[0.004287558641395295, 0.5707492024769995, 3.4057944079564453, 4.475253312066014, 2.3885067367235804, 0.2260807093263183, 0.21667112028523108, 3.3654656408332215, 7.642573860011285, 2.0008683805592336]\n"
     ]
    }
   ],
   "source": [
    "for xij in list_xijvkj2:\n",
    "    print(xij)"
   ]
  },
  {
   "cell_type": "code",
   "execution_count": 99,
   "metadata": {},
   "outputs": [
    {
     "name": "stdout",
     "output_type": "stream",
     "text": [
      "66.34971477226385\n",
      "113.61252342835894\n",
      "175.023449869542\n",
      "623.9513808161099\n",
      "326.57131195029456\n",
      "165.20428502336304\n",
      "220.85675418987987\n",
      "518.2357251066343\n",
      "233.33295495319882\n",
      "303.91535667259586\n"
     ]
    }
   ],
   "source": [
    "index_lt = 0\n",
    "total_lt = []\n",
    "for index_data, data in enumerate(list_xijvkj2[0]):\n",
    "    total_angka = 0\n",
    "    for index_list, list_total in enumerate(list_xijvkj2):\n",
    "        total_angka += list_xijvkj2[index_list][index_data]\n",
    "        \n",
    "    total_lt.append(total_angka)\n",
    "\n",
    "for data in total_lt:\n",
    "    print(data)"
   ]
  },
  {
   "cell_type": "code",
   "execution_count": 100,
   "metadata": {},
   "outputs": [
    {
     "name": "stdout",
     "output_type": "stream",
     "text": [
      "[0.26952527565451756, 0.22809438642977198, 0.3020255401905457, 0.3019619159836648, 0.29841338166492, 0.2685929315096063, 0.38086247288375435, 0.36401596741195946, 0.37254512312382654, 0.35578754399966434]\n",
      "[0.35516169351734006, 0.12518672467054115, 0.35561824583378715, 0.3199184055782919, 0.3404037717438027, 0.06150999971345374, 0.26390229316722014, 0.23338162894100425, 0.07843479972926024, 0.2999006632085899]\n",
      "[0.016425689193090676, 0.22616041262138856, 0.020811636446425117, 0.034024941167532255, 0.018867623036103946, 0.25306943564812723, 0.04213514834412129, 0.09128759625616098, 0.27809033578610537, 0.01670905955032087]\n"
     ]
    }
   ],
   "source": [
    "ui1 = [[] for i in range(jumlah_cluster)]\n",
    "\n",
    "for i in range(jumlah_cluster):\n",
    "    for index_data, data in enumerate(total_lt):\n",
    "        angka1 = list_xijvkj2[2 * i][index_data]\n",
    "        angka2 = list_xijvkj2[2 * i + 1][index_data]\n",
    "        total_angka = angka1 + angka2\n",
    "        hasil = total_angka / data\n",
    "        ui1[i].append(hasil)\n",
    "\n",
    "for data in ui1:\n",
    "    print(data)"
   ]
  }
 ],
 "metadata": {
  "kernelspec": {
   "display_name": "analytics",
   "language": "python",
   "name": "python3"
  },
  "language_info": {
   "codemirror_mode": {
    "name": "ipython",
    "version": 3
   },
   "file_extension": ".py",
   "mimetype": "text/x-python",
   "name": "python",
   "nbconvert_exporter": "python",
   "pygments_lexer": "ipython3",
   "version": "3.11.8"
  }
 },
 "nbformat": 4,
 "nbformat_minor": 2
}
